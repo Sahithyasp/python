{
 "cells": [
  {
   "cell_type": "code",
   "execution_count": null,
   "metadata": {},
   "outputs": [],
   "source": [
    "'''\n",
    "File Handling:\n",
    "--------------\n",
    "->PVM uses heap memory\n",
    "RAM -volatile(temporary memory)\n",
    "- as programming requirement, required to save our data\n",
    "- saving data is common requirement in programs may be to the file , DB perly for the future purpose\n",
    "Various storage area:\n",
    "---------------------\n",
    "1.temporary:\n",
    "  list,set,tuple,dict are stored temporary inside PVM as part of Heap\n",
    "2.permanent\n",
    "  files,daatabases,big data technologies\n",
    "Types of files:\n",
    "---------------\n",
    "1. text files\n",
    "  to store text data like names of students , marks of students\n",
    "2. binary files\n",
    "  to store images,video files,audio files jar (0..1) files , etc\n",
    "  \n",
    "1. creating a file\n",
    "2. opening a file\n",
    "3. closing a file\n",
    "4. reading,writing and appending files , etc\n",
    "\n",
    "Step to open file:\n",
    "-open(filename,mode)\n",
    "-open(filename)\n",
    "by default mode is read 'r'\n",
    "\n",
    "f = open('a.txt','w')\n",
    "\n",
    "Allowed modes in python:\n",
    "------------------------\n",
    "1. r  - read\n",
    "2. w  - write\n",
    "3. a  - append\n",
    "4. r+ - read and write\n",
    "5. w+ - write and read\n",
    "6. a+ - append and read\n",
    "7. x  - exclusive\n",
    "->these modes are only for text files\n",
    "\n",
    "Read mode(r):\n",
    ".............\n",
    "-open an existing file for read operation\n",
    "-file pointer poaitioning at beginning of file\n",
    "-if specified file is not available then we will get \"FileNotFoundError\"\n",
    "\n",
    "Write mode(w):\n",
    "..............\n",
    "-if specified file is not available then new file will be created\n",
    "-if file already contains some data,it will perform overwrite operation\n",
    "\n",
    "Append mode(a):\n",
    "...............\n",
    "-it is similar to write operatin , but it will not overwite the data,it will append the data\n",
    "-file pointer is at end\n",
    "\n",
    "Exclusive mode(x):\n",
    "..................\n",
    "-it is for write operation\n",
    "-it will always creates a new file\n",
    "-if we give the existing file name it will raise an error like \"FileExistsError\"\n",
    "\n",
    "For binary files the modes are:\n",
    "-------------------------------\n",
    "rb,wb,ab,xb,rb+,wb+,ab+,xb+\n",
    "\n",
    "Various properties of file object:\n",
    "----------------------------------\n",
    "1.f.name\n",
    "2.f.mode\n",
    "3.f.closed\n",
    "these are called variables or attributes\n",
    "\n",
    "1.f.readable()\n",
    "2.f.writable()\n",
    "these are called methods\n",
    "\n",
    "basically these methods return boolean values\n",
    "\n",
    "Writing data to file:\n",
    "---------------------\n",
    "writing text data to file by using 2 methods\n",
    "1.f.write(str) \n",
    "->takes only one string\n",
    "2.f.writelines(list of lines) \n",
    "-> group of strings (it can be list,tuple,set)\n",
    "->it always takes strings, \n",
    "->arguments must be string only,\n",
    "->it will not accept int,float \n",
    "\n",
    "'''"
   ]
  },
  {
   "cell_type": "code",
   "execution_count": 33,
   "metadata": {},
   "outputs": [
    {
     "name": "stdout",
     "output_type": "stream",
     "text": [
      "file name:        a.txt\n",
      "file mode:        r+\n",
      "is file closed?:  False\n",
      "readable or not:  True\n",
      "writable or not:  True\n",
      "is file closed?:  True\n"
     ]
    }
   ],
   "source": [
    "f=open('a.txt','r+')\n",
    "\n",
    "#print(f)\n",
    "\n",
    "print('file name:       ',f.name)\n",
    "print('file mode:       ',f.mode)\n",
    "print('is file closed?: ',f.closed)\n",
    "print('readable or not: ',f.readable())\n",
    "print('writable or not: ',f.writable())\n",
    "\n",
    "f.close()\n",
    "\n",
    "print('is file closed?: ',f.closed)"
   ]
  },
  {
   "cell_type": "code",
   "execution_count": 5,
   "metadata": {},
   "outputs": [
    {
     "name": "stdout",
     "output_type": "stream",
     "text": [
      "13\n",
      "None\n"
     ]
    }
   ],
   "source": [
    "f=open('b.txt','w')\n",
    "print(f.write('welcome\\nprgm\\n'))\n",
    "l=['hee\\n','huuu\\n','haaa']\n",
    "print(f.writelines(l))\n",
    "\n",
    "# it will not accept these values\n",
    "# l=[2,3,34.5]\n",
    "# print(f.writelines(l))"
   ]
  },
  {
   "cell_type": "code",
   "execution_count": 1,
   "metadata": {},
   "outputs": [
    {
     "name": "stdout",
     "output_type": "stream",
     "text": [
      "enter file name: filetest.txt\n",
      "enter your feedback data: this is the data entereted in the text of the python\n"
     ]
    }
   ],
   "source": [
    "'''\n",
    "Write some data to some files:\n",
    "------------------------------\n",
    "filename i will pass as dynamic i/p\n",
    "data can be entered as dynamic i/p\n",
    "stores on C:\\path\n",
    "'\\'(backslash) is always consider as escape sequence,to over-ride we need to use '\\\\'\n",
    "\n",
    "'''\n",
    "\n",
    "fname=input(\"enter file name: \")\n",
    "f=open('E:\\\\python ws\\\\'+fname,'w')\n",
    "feedback=input('enter your feedback data: ')\n",
    "f.write(feedback)\n",
    "f.close()\n",
    "\n",
    "\n"
   ]
  },
  {
   "cell_type": "code",
   "execution_count": 1,
   "metadata": {},
   "outputs": [
    {
     "name": "stdout",
     "output_type": "stream",
     "text": [
      "this is entered in the text file created dynamically\n",
      "for reading this we do operations\n",
      "\n",
      "\n",
      "[]\n"
     ]
    }
   ],
   "source": [
    "'''\n",
    "Read Character data from text files:\n",
    "------------------------------------\n",
    "there are 4 methods available to read data from text file\n",
    "f.read() - to read total data from file\n",
    "f.read(n) - to read 'n' characters from the file\n",
    "f.readline() - to read only one line\n",
    "f.readlines() - to read all lines\n",
    "\n",
    "'''\n",
    "\n",
    "f=open('E:\\\\python ws\\\\filetest.txt','r')\n",
    "\n",
    "print(f.read(),end='\\n')\n",
    "print(f.read(15),end='\\n')\n",
    "print(f.readline(),end='\\n')\n",
    "print(f.readlines())\n",
    "\n",
    "f.close()"
   ]
  },
  {
   "cell_type": "code",
   "execution_count": null,
   "metadata": {},
   "outputs": [],
   "source": [
    "'''\n",
    "Methods for file positions:\n",
    "---------------------------\n",
    "1.tell() - used for identifying which position the current file pointer is located. In other words, it’s the distance of the file pointer from the beginning of the file.\n",
    "\n",
    "2.seek()- used to change the current file position. This function can be written with either 1 or 2 parameters.\n",
    "    Syntax:\n",
    "        file_name(offset)\n",
    "        file_name(offset,from)\n",
    "        \n",
    "    offset – the 'offset' value indicates the number of bytes or location of the file pointer to be moved. A positive number indicates right to left and a negative number indicates left to right.\n",
    "    from – the 'from' parameter can be of only 3 values. If it is 0, then it indicates the pointer must be at the beginning of the file. If its 1, then the current position of the file pointer has to be considered. If it is 2, then it indicates the end of the file.\n",
    "\n",
    "'''"
   ]
  },
  {
   "cell_type": "code",
   "execution_count": 27,
   "metadata": {},
   "outputs": [
    {
     "name": "stdout",
     "output_type": "stream",
     "text": [
      "this is the file to read\n",
      "\n",
      "file pointer is at:  24\n",
      "20\n",
      "read\n",
      "10\n"
     ]
    }
   ],
   "source": [
    "# tell()\n",
    "f=open(\"a.txt\",\"r\")\n",
    "print(f.read()) \n",
    "print('\\nfile pointer is at: ',f.tell()) \n",
    "f.close()\n",
    "\n",
    "#seek()\n",
    "f=open(\"a.txt\", \"r\")\n",
    "# print(f.read())\n",
    "f.seek(20,0)\n",
    "print(f.tell())\n",
    "print(f.read())\n",
    "f.seek(10,0)\n",
    "print(f.tell())"
   ]
  },
  {
   "cell_type": "code",
   "execution_count": 28,
   "metadata": {},
   "outputs": [
    {
     "name": "stdout",
     "output_type": "stream",
     "text": [
      "data copied from b.txt to out.txt...\n"
     ]
    }
   ],
   "source": [
    "# read data from b.txt and write to out.txt\n",
    "\n",
    "f1=open('b.txt','r')\n",
    "f2=open('out.txt','w')\n",
    "f2.write(f1.read())\n",
    "f1.close()\n",
    "f2.close()\n",
    "print('data copied from b.txt to out.txt...')"
   ]
  },
  {
   "cell_type": "code",
   "execution_count": 24,
   "metadata": {},
   "outputs": [
    {
     "name": "stdout",
     "output_type": "stream",
     "text": [
      "welc\n",
      "ome\n",
      "\n",
      "sample\n",
      "\n",
      "remeining data: \n",
      " program\n",
      "using files\n",
      "we are doing\n",
      "from a text file\n"
     ]
    }
   ],
   "source": [
    "f=open('b.txt','r')\n",
    "#lines=f.readlines()\n",
    "# print(f.read())\n",
    "\n",
    "# print('\\nusing for loop\\n')\n",
    "# for l in lines:\n",
    "#     print(l,end='')\n",
    "    \n",
    "print(f.read(4))\n",
    "print(f.readline())\n",
    "print(f.read(6))\n",
    "print('\\nremeining data: ')\n",
    "print(f.read())"
   ]
  },
  {
   "cell_type": "code",
   "execution_count": null,
   "metadata": {},
   "outputs": [],
   "source": [
    "'''\n",
    "with statement:\n",
    "---------------\n",
    "-> 'with' statement was introduced in python 2.5\n",
    "-> automatically the file will be closed , we don't need to explicitly specify to close the file\n",
    "\n",
    "Syntax:\n",
    "   with open(<filename>,mode) as file_object:\n",
    "       statements......\n",
    "\n",
    "'''"
   ]
  },
  {
   "cell_type": "code",
   "execution_count": 1,
   "metadata": {},
   "outputs": [
    {
     "name": "stdout",
     "output_type": "stream",
     "text": [
      "this is awesoment\n",
      "0\n",
      "68\n",
      "False becoz the file is inside the with statement only\n",
      "97\n",
      "True becoz the file is outside the with statement only\n"
     ]
    }
   ],
   "source": [
    "with open('a.txt','r') as f:\n",
    "    print(f.read())\n",
    "    \n",
    "with open('abc.txt','w') as f:\n",
    "    print(f.tell())\n",
    "    f.write('karimnagar welcome to you\\n')\n",
    "    f.write('this for understanding \"with\" statement\\n')\n",
    "    print(f.tell())\n",
    "    f.write('we can retrive it using modes')\n",
    "    print(f.closed,'becoz the file is inside the with statement only')\n",
    "    print(f.tell())\n",
    "print(f.closed,'becoz the file is outside the with statement only')"
   ]
  },
  {
   "cell_type": "code",
   "execution_count": 26,
   "metadata": {},
   "outputs": [
    {
     "name": "stdout",
     "output_type": "stream",
     "text": [
      "0\n",
      "\u0000\u0000\n",
      "2\n",
      "\u0000\u0000\u0000\n",
      "5\n",
      "before modifying it:  \n",
      "current position:  15\n",
      "current position:  8\n",
      "after modifying it:  this is excellent\n"
     ]
    }
   ],
   "source": [
    "# tell()\n",
    "\n",
    "f=open('abc.txt','r')\n",
    "print(f.tell())\n",
    "print(f.read(2))\n",
    "print(f.tell())\n",
    "print(f.read(3))\n",
    "print(f.tell())\n",
    "\n",
    "\n",
    "\n",
    "\n",
    "\n",
    "'''\n",
    "seek()\n",
    "------\n",
    "-To move file pointer from one position to another (forward/backward direction)\n",
    "-python 2.0 to 2.9\n",
    "syntax:\n",
    "\n",
    "   seek(offset,from where)\n",
    "\n",
    "offset -> how many postion\n",
    "from where -> 3 choices \n",
    "               0 - from beginning of file\n",
    "               1 - from current postion\n",
    "               2 - from end of file\n",
    "-python 3.x\n",
    "syntax:\n",
    "     seek(argument) -> 0 means begin\n",
    "\n",
    "seek() will take only one argument\n",
    "by default the file pointer is at beginning only\n",
    "if we pass seek(-10) there is no +ve and -ve indexing in seek() menthod\n",
    "\n",
    "'''\n",
    "\n",
    "d='this is awesome'\n",
    "r=open('a.txt','w')\n",
    "r.write(d)\n",
    "with open('a.txt','r+') as m:\n",
    "    print('before modifying it: ',m.read())\n",
    "    print('current position: ',r.tell())\n",
    "    r.seek(8)\n",
    "    print('current position: ',r.tell())\n",
    "    \n",
    "    r.write('excellent')\n",
    "    r.seek(0)\n",
    "    print('after modifying it: ',m.read())"
   ]
  },
  {
   "cell_type": "code",
   "execution_count": 30,
   "metadata": {},
   "outputs": [
    {
     "name": "stdout",
     "output_type": "stream",
     "text": [
      "1007\n"
     ]
    }
   ],
   "source": [
    "with open('abc.txt','r+') as f:\n",
    "    f.seek(1000)\n",
    "    f.write('jfdsjjh')\n",
    "    print(f.tell())"
   ]
  },
  {
   "cell_type": "code",
   "execution_count": 36,
   "metadata": {},
   "outputs": [
    {
     "name": "stdout",
     "output_type": "stream",
     "text": [
      "True\n",
      "enter file name: z.txt\n",
      "file doesn't exists:  z.txt\n"
     ]
    }
   ],
   "source": [
    "# how to check whether given file exist or not?\n",
    "# isfile() - os module package lo untadi, to check whether file exists or not\n",
    "\n",
    "import os\n",
    "print(os.path.isfile('a.txt'))\n",
    "\n",
    "fname=input('enter file name: ')\n",
    "if os.path.isfile(fname):\n",
    "    print('file exists: ',fname)\n",
    "    f=open(fname,'r')\n",
    "    print('content in file: ',f.read())\n",
    "else:\n",
    "    print(\"file doesn't exists: \",fname)"
   ]
  },
  {
   "cell_type": "code",
   "execution_count": 37,
   "metadata": {},
   "outputs": [],
   "source": [
    "# functon declare inside class is called method \n",
    "# function declared outside class called funtion"
   ]
  },
  {
   "cell_type": "code",
   "execution_count": 47,
   "metadata": {},
   "outputs": [
    {
     "name": "stdout",
     "output_type": "stream",
     "text": [
      "enter file name: a.txt\n",
      "file exists:  a.txt\n",
      "1\n",
      "no.of lines:  1\n",
      "no.of words:  3\n",
      "no.of characters:  17\n"
     ]
    }
   ],
   "source": [
    "# write a program to print no.of lines, words and characters present in given file\n",
    "\n",
    "import os\n",
    "fname=input('enter file name: ')\n",
    "if os.path.isfile(fname):\n",
    "    print('file exists: ',fname)\n",
    "    f=open(fname,'r')\n",
    "    \n",
    "    line=word=char=0\n",
    "    for li in f:\n",
    "        line+=1\n",
    "        print(line)\n",
    "        words=li.split() # for splitting the sentence\n",
    "        word+=len(words)\n",
    "        char+=len(li)\n",
    "    print('no.of lines: ',line)\n",
    "    print('no.of words: ',word)\n",
    "    print('no.of characters: ',char)\n",
    "    \n",
    "else:\n",
    "    print(\"file doesn't exists: \",fname)"
   ]
  },
  {
   "cell_type": "code",
   "execution_count": null,
   "metadata": {},
   "outputs": [],
   "source": [
    "'''\n",
    "Handling CSV files:\n",
    "-------------------\n",
    "CSV - Comma Separated Values\n",
    "We need to use CSV module\n",
    "\n",
    "writer()\n",
    "writerow()\n",
    "reader()\n",
    "\n",
    "'''"
   ]
  },
  {
   "cell_type": "code",
   "execution_count": 6,
   "metadata": {},
   "outputs": [
    {
     "name": "stdout",
     "output_type": "stream",
     "text": [
      "going to new img\n"
     ]
    }
   ],
   "source": [
    "# program to read image file and write to a new image file\n",
    "f1=open('F:\\\\s\\\\1.jpg','rb')\n",
    "f2=open('F:\\\\s\\\\2.jpg','wb')\n",
    "bytes=f1.read()\n",
    "f2.write(bytes)\n",
    "print('going to new img')       "
   ]
  },
  {
   "cell_type": "code",
   "execution_count": 10,
   "metadata": {},
   "outputs": [
    {
     "name": "stdout",
     "output_type": "stream",
     "text": [
      "enter name: sahithya\n",
      "enter htno: 3\n",
      "enter marks: 78\n",
      "enter address: hyd\n",
      "Do you want to insert more record? (yes/no) y\n",
      "enter name: roy\n",
      "enter htno: 4\n",
      "enter marks: 76\n",
      "enter address: vmd\n",
      "Do you want to insert more record? (yes/no) n\n",
      "enter name: don\n",
      "enter htno: 5\n",
      "enter marks: 67\n",
      "enter address: wrngl\n",
      "Do you want to insert more record? (yes/no) no\n",
      "\n",
      "total student data written to csv file is success\n"
     ]
    }
   ],
   "source": [
    "# writing data to csv files\n",
    "\n",
    "import csv\n",
    "# with open('demo.csv','w',newline='') as f:  # here newline='' means it will not skip one line\n",
    "with open('demo.csv','a',newline='') as f:\n",
    "    w=csv.writer(f)\n",
    "#     w.writerow(['Name','HtNo','Marks','Address'])\n",
    "    while True:\n",
    "        name=input('enter name: ')\n",
    "        htno=float(input('enter htno: '))\n",
    "        marks=float(input('enter marks: '))\n",
    "        address=input('enter address: ')\n",
    "        w.writerow([name,htno,marks,address])\n",
    "        option=input('Do you want to insert more record? (yes/no) ')\n",
    "        if option.lower()=='no':\n",
    "            break\n",
    "print('\\ntotal student data written to csv file is success')"
   ]
  },
  {
   "cell_type": "code",
   "execution_count": 61,
   "metadata": {},
   "outputs": [
    {
     "name": "stdout",
     "output_type": "stream",
     "text": [
      "Name \tHtNo \tMarks \tAddress \t\n",
      "sai \t2.0 \t87.0 \tknr \t\n",
      "sahithya \t3.0 \t78.0 \thyd \t\n",
      "roy \t4.0 \t76.0 \tvmd \t\n",
      "don \t5.0 \t67.0 \twrngl \t\n"
     ]
    }
   ],
   "source": [
    "# reading data from csv files\n",
    "\n",
    "import csv\n",
    "f=open('demo.csv')\n",
    "r=csv.reader(f)\n",
    "data=list(r)\n",
    "#print(data)\n",
    "for row in data:\n",
    "    #print(row)\n",
    "    for col in row:\n",
    "            print(col,'\\t',end='')\n",
    "    print()\n",
    "          "
   ]
  },
  {
   "cell_type": "code",
   "execution_count": 36,
   "metadata": {},
   "outputs": [
    {
     "data": {
      "text/plain": [
       "\"\\nZipping and unzipping files:\\n----------------------------\\n-> to improve memory utilization\\n-> we can reduce transfer files\\n-> security\\n-> In order to implement, zipfile module is provided\\n-> under this module there is one special class called 'ZipFile'\\n-> To create a zipfile \\n    syntax:\\n        f=ZipFile()\\n        ZIP_DEFLATED - constant used while 'write' method\\n\\n\""
      ]
     },
     "execution_count": 36,
     "metadata": {},
     "output_type": "execute_result"
    }
   ],
   "source": [
    "'''\n",
    "Zipping and unzipping files:\n",
    "----------------------------\n",
    "-> to improve memory utilization\n",
    "-> we can reduce transfer files\n",
    "-> security\n",
    "-> In order to implement, zipfile module is provided\n",
    "-> under this module there is one special class called 'ZipFile'\n",
    "-> To create a zipfile \n",
    "    syntax:\n",
    "        f=ZipFile()\n",
    "        ZIP_DEFLATED - constant used while 'write' method\n",
    "        \n",
    "-> To unzip:\n",
    "\n",
    "    namelist() to print files inside zip\n",
    "    \n",
    "Working with directories:\n",
    "-------------------------\n",
    "-> to jnow cwd\n",
    "-> create new dir\n",
    "-> remove an existing dir\n",
    "-> list contents of dir\n",
    "-> to rename a dir\n",
    "-> to change to another dir\n",
    "To implement this , we need to use 'os module'\n",
    "    getcwd() - get current working dir\n",
    "    chdir() - chng to another dir\n",
    "    mkdir() - make new dir\n",
    "    makedirs() - make multiple dirs\n",
    "    rmdir() - remove single dir\n",
    "    removedirs() - remove dir and sub-dir\n",
    "    listdir() - list contents of dir\n",
    "    \n",
    "os.system() - to run programs and commands,similar to system function in C\n",
    "\n",
    "Command line arguments:\n",
    "-----------------------\n",
    "-> Want to pass arguments from command prompt during execution of program\n",
    "Syntax:\n",
    "    py <file_name> arguments\n",
    "    \n",
    "    py demo.py 10 20 30\n",
    "-> In order to implement, we need to use special module is called 'sys'\n",
    "    sys - module\n",
    "    argv - variable name, by default,this will be list type\n",
    "    \n",
    "    py demo.py 10 11 12\n",
    "           |    |  |  |\n",
    "           0    1  2  3 (takes as index , file name is considered as the first argument)\n",
    "    \n",
    "    \n",
    "-> All command line arguments will be in string form.\n",
    "\n",
    "\n",
    "'''"
   ]
  },
  {
   "cell_type": "code",
   "execution_count": 20,
   "metadata": {},
   "outputs": [
    {
     "name": "stdout",
     "output_type": "stream",
     "text": [
      "file is zipped successfully....\n"
     ]
    }
   ],
   "source": [
    "# zipping of files\n",
    "\n",
    "from zipfile import *\n",
    "f=ZipFile('file.zip','w',ZIP_DEFLATED)\n",
    "f.write('a.txt')\n",
    "f.write('b.txt')\n",
    "f.close()\n",
    "print('file is zipped successfully....')"
   ]
  },
  {
   "cell_type": "code",
   "execution_count": 26,
   "metadata": {},
   "outputs": [
    {
     "name": "stdout",
     "output_type": "stream",
     "text": [
      "['a.txt', 'b.txt']\n",
      "File Name:  a.txt\n",
      "content in file: \n",
      "this is excellent\n",
      "******************************\n",
      "File Name:  b.txt\n",
      "content in file: \n",
      "welcome\n",
      "sample program\n",
      "using files\n",
      "we are doing\n",
      "from a text file\n",
      "******************************\n"
     ]
    }
   ],
   "source": [
    "# unzip and read the file\n",
    "\n",
    "from zipfile import *\n",
    "f=ZipFile('file.zip','r',ZIP_STORED)\n",
    "names=f.namelist()\n",
    "print(names)\n",
    "for name in names:\n",
    "    print('File Name: ',name)\n",
    "    print('content in file: ')\n",
    "    f1=open(name,'r')\n",
    "    print(f1.read())\n",
    "    print('*'*30)"
   ]
  },
  {
   "cell_type": "code",
   "execution_count": 60,
   "metadata": {},
   "outputs": [
    {
     "name": "stdout",
     "output_type": "stream",
     "text": [
      "cal\n",
      "chat.db\n",
      "chat.py\n",
      "covid_cases.py\n",
      "cse-2020\n",
      "demo.py\n",
      "demo1.csv\n",
      "demo1.py\n",
      "filetest.txt\n",
      "file_csv.py\n",
      "fl.py\n",
      "game.py\n",
      "img1.jpg\n",
      "log\n",
      "mod.py\n",
      "model.py\n",
      "new.jpg\n",
      "pac.py\n",
      "patn.py\n",
      "py\n",
      "py1.mp4\n",
      "pywhatkit_dbs.txt\n",
      "templates\n",
      "wtsap.py\n",
      "__pycache__\n",
      "length of dir:  25\n"
     ]
    }
   ],
   "source": [
    "import os\n",
    "os.getcwd()\n",
    "os.chdir('E:\\\\python ws')\n",
    "os.getcwd()\n",
    "set(os.listdir())\n",
    "for name in os.listdir():\n",
    "    print(name)\n",
    "print('length of dir: ',len(os.listdir()))\n",
    "# os.mkdir('testing_dir')\n",
    "# os.makedirs('jits/cse/c')\n",
    "# os.rename('testing_dir','cse-2020')\n",
    "os.rmdir('cse-2020')\n",
    "# os.removedirs('jits/cse/c')"
   ]
  },
  {
   "cell_type": "code",
   "execution_count": 62,
   "metadata": {},
   "outputs": [
    {
     "data": {
      "text/plain": [
       "0"
      ]
     },
     "execution_count": 62,
     "metadata": {},
     "output_type": "execute_result"
    }
   ],
   "source": [
    "import os\n",
    "os.system('py demo.py')\n",
    "os.system('dir')\n",
    "os.system('javac demo.java')\n",
    "os.system('java demo')\n",
    "os.system('notepad.exe')\n"
   ]
  },
  {
   "cell_type": "code",
   "execution_count": 65,
   "metadata": {},
   "outputs": [
    {
     "data": {
      "text/plain": [
       "0"
      ]
     },
     "execution_count": 65,
     "metadata": {},
     "output_type": "execute_result"
    }
   ],
   "source": [
    "import os\n",
    "# os.system('notepad.exe')\n",
    "os.system('calc.exe')"
   ]
  },
  {
   "cell_type": "code",
   "execution_count": 7,
   "metadata": {
    "scrolled": true
   },
   "outputs": [
    {
     "name": "stdout",
     "output_type": "stream",
     "text": [
      "succesfull..\n"
     ]
    }
   ],
   "source": [
    "# merging files\n",
    "f1=open('b.txt')\n",
    "f2=open('a.txt')\n",
    "f3=open('out.txt','w')\n",
    "for x in f1:\n",
    "    f3.write(x)\n",
    "for x in f2:\n",
    "    f3.write(x)\n",
    "print('succesfull..')\n",
    "f1.close()\n",
    "f2.close()\n",
    "f3.close()"
   ]
  },
  {
   "cell_type": "code",
   "execution_count": 9,
   "metadata": {},
   "outputs": [
    {
     "ename": "FileNotFoundError",
     "evalue": "[Errno 2] No such file or directory: '-f'",
     "output_type": "error",
     "traceback": [
      "\u001b[1;31m---------------------------------------------------------------------------\u001b[0m",
      "\u001b[1;31mFileNotFoundError\u001b[0m                         Traceback (most recent call last)",
      "\u001b[1;32m<ipython-input-9-33169afa733c>\u001b[0m in \u001b[0;36m<module>\u001b[1;34m\u001b[0m\n\u001b[0;32m      1\u001b[0m \u001b[1;32mfrom\u001b[0m \u001b[0msys\u001b[0m \u001b[1;32mimport\u001b[0m \u001b[0margv\u001b[0m\u001b[1;33m\u001b[0m\u001b[1;33m\u001b[0m\u001b[0m\n\u001b[1;32m----> 2\u001b[1;33m \u001b[0mf1\u001b[0m\u001b[1;33m=\u001b[0m\u001b[0mopen\u001b[0m\u001b[1;33m(\u001b[0m\u001b[0margv\u001b[0m\u001b[1;33m[\u001b[0m\u001b[1;36m1\u001b[0m\u001b[1;33m]\u001b[0m\u001b[1;33m)\u001b[0m\u001b[1;33m\u001b[0m\u001b[1;33m\u001b[0m\u001b[0m\n\u001b[0m\u001b[0;32m      3\u001b[0m \u001b[0mf2\u001b[0m\u001b[1;33m=\u001b[0m\u001b[0mopen\u001b[0m\u001b[1;33m(\u001b[0m\u001b[0margv\u001b[0m\u001b[1;33m[\u001b[0m\u001b[1;36m2\u001b[0m\u001b[1;33m]\u001b[0m\u001b[1;33m)\u001b[0m\u001b[1;33m\u001b[0m\u001b[1;33m\u001b[0m\u001b[0m\n\u001b[0;32m      4\u001b[0m \u001b[0mf3\u001b[0m\u001b[1;33m=\u001b[0m\u001b[0mopen\u001b[0m\u001b[1;33m(\u001b[0m\u001b[0margv\u001b[0m\u001b[1;33m[\u001b[0m\u001b[1;36m3\u001b[0m\u001b[1;33m]\u001b[0m\u001b[1;33m,\u001b[0m\u001b[1;34m'w'\u001b[0m\u001b[1;33m)\u001b[0m\u001b[1;33m\u001b[0m\u001b[1;33m\u001b[0m\u001b[0m\n\u001b[0;32m      5\u001b[0m \u001b[1;32mfor\u001b[0m \u001b[0mx\u001b[0m \u001b[1;32min\u001b[0m \u001b[0mf1\u001b[0m\u001b[1;33m:\u001b[0m\u001b[1;33m\u001b[0m\u001b[1;33m\u001b[0m\u001b[0m\n",
      "\u001b[1;31mFileNotFoundError\u001b[0m: [Errno 2] No such file or directory: '-f'"
     ]
    }
   ],
   "source": [
    "from sys import argv\n",
    "f1=open(argv[1])\n",
    "f2=open(argv[2])\n",
    "f3=open(argv[3],'w')\n",
    "for x in f1:\n",
    "    f3.write(x)\n",
    "for x in f2:\n",
    "    f3.write(x)\n",
    "print('succesfull..')\n",
    "f1.close()\n",
    "f2.close()\n",
    "f3.close()"
   ]
  },
  {
   "cell_type": "code",
   "execution_count": null,
   "metadata": {},
   "outputs": [],
   "source": [
    "'''\n",
    "Exception:\n",
    "----------\n",
    "-> It is an event, which occurs during the execution of a program, that disrupt the normal flow of programs instruction\n",
    "\n",
    "Exception Handling:\n",
    "-------------------\n",
    "-> Process of responding to the occurance during computation of exceptional conditions and requiring special processing-often changing the normal flow of program excution\n",
    "\n",
    "Process of exception handiling:\n",
    "-------------------------------\n",
    "=> keywords - try ,except ,else ,finally\n",
    "\n",
    "\n",
    "syntax:\n",
    "    try:\n",
    "        run this code\n",
    "    except:\n",
    "        execute this code when there is an exception\n",
    "    else:\n",
    "        no exception ,run this code\n",
    "    finally:\n",
    "        always run this code,whether the code has exception or not \n",
    "  \n",
    "\n",
    "Common exception:\n",
    "-----------------\n",
    "- ZeroDivisonError\n",
    "- NameError\n",
    "- IndentationError\n",
    "- IOError\n",
    "- EOFError\n",
    "- TypeError\n",
    "- ValueError\n",
    "\n",
    "Raise an Exception:\n",
    "-------------------\n",
    "-> to generate an exception explicitly , 'raise' keyword is used\n",
    "\n",
    "Assertion:\n",
    "----------\n",
    "-> It is a debugging tool\n",
    "-> Process of identifying and fixing the bug\n",
    "-> Assertions are internal self-checks for the program\n",
    "-> Based on our requirement we can enable & disable assertion\n",
    "    assert -keyword\n",
    "    \n",
    "    Syntax:\n",
    "        assert conditonal-expression\n",
    "        \n",
    "Disable assertion in client envrionment:\n",
    "----------------------------------------\n",
    "py -O test.py \n",
    "\n",
    "Types of Assert statement:\n",
    "---------------------------\n",
    "1. simple version\n",
    "2. very simple version(augmented version)- provides additional information\n",
    "\n",
    "        \n",
    "developer -----> testing team -----> production(client)\n",
    "  (bug)              (defect)          (error)  \n",
    "\n",
    "\n",
    "\n",
    "'''"
   ]
  },
  {
   "cell_type": "code",
   "execution_count": 7,
   "metadata": {},
   "outputs": [
    {
     "name": "stdout",
     "output_type": "stream",
     "text": [
      "some error occurred\n",
      "out of try and except block\n"
     ]
    }
   ],
   "source": [
    "a=5\n",
    "b=0\n",
    "try:\n",
    "    a/b\n",
    "except:\n",
    "    print('some error occurred')\n",
    "print('out of try and except block')"
   ]
  },
  {
   "cell_type": "code",
   "execution_count": 17,
   "metadata": {},
   "outputs": [
    {
     "name": "stdout",
     "output_type": "stream",
     "text": [
      "enter a value: 3\n",
      "enter a value: +\n",
      "value error\n",
      "out of try and except block\n"
     ]
    }
   ],
   "source": [
    "try:\n",
    "    a=int(input('enter a value: '))\n",
    "    b=int(input('enter a value: '))\n",
    "    c=a/b\n",
    "    print('a/b=%d'%c)\n",
    "except TypeError:\n",
    "    print('Unsupported operation')\n",
    "except ZeroDivisionError:\n",
    "    print('cannot divide by 0')\n",
    "except ValueError:\n",
    "    print('value error')\n",
    "print('out of try and except block')\n",
    "    \n",
    "    "
   ]
  },
  {
   "cell_type": "code",
   "execution_count": 10,
   "metadata": {},
   "outputs": [
    {
     "name": "stdout",
     "output_type": "stream",
     "text": [
      "enter a number upto 100: 123\n",
      "123 is out of allowed range\n"
     ]
    }
   ],
   "source": [
    "# raise an exception\n",
    "try:\n",
    "    x=int(input('enter a number upto 100: '))\n",
    "    if x>100:\n",
    "        raise ValueError(x)\n",
    "except ValueError as v:\n",
    "    print(v,'is out of allowed range')\n",
    "else:\n",
    "    print(x,'within allowed range')\n"
   ]
  },
  {
   "cell_type": "code",
   "execution_count": 3,
   "metadata": {},
   "outputs": [
    {
     "name": "stdout",
     "output_type": "stream",
     "text": [
      "try block\n",
      "enter a number: 4\n",
      "enter a number: 5\n",
      "\n",
      "else block\n",
      "division=  0.8\n",
      "\n",
      "finally block\n",
      "\n",
      "out of all blocks...\n"
     ]
    }
   ],
   "source": [
    "try:\n",
    "    print('try block')\n",
    "    x=int(input('enter a number: '))\n",
    "    y=int(input('enter a number: '))\n",
    "    z=x/y\n",
    "except ZeroDivisionError:\n",
    "    print('\\nexcept ZeroDivisionError block')\n",
    "    print('division by 0 not accepted')\n",
    "else:\n",
    "    print('\\nelse block')\n",
    "    print('division= ',z)\n",
    "finally:\n",
    "    print('\\nfinally block')\n",
    "    x=0\n",
    "    y=0\n",
    "print('\\nout of all blocks...')\n",
    "    \n",
    "    "
   ]
  },
  {
   "cell_type": "code",
   "execution_count": 1,
   "metadata": {},
   "outputs": [
    {
     "ename": "TypeError",
     "evalue": "unsupported operand type(s) for /: 'str' and 'int'",
     "output_type": "error",
     "traceback": [
      "\u001b[1;31m---------------------------------------------------------------------------\u001b[0m",
      "\u001b[1;31mTypeError\u001b[0m                                 Traceback (most recent call last)",
      "\u001b[1;32m<ipython-input-1-1abd23ffbe94>\u001b[0m in \u001b[0;36m<module>\u001b[1;34m\u001b[0m\n\u001b[0;32m      1\u001b[0m \u001b[0ma\u001b[0m\u001b[1;33m=\u001b[0m\u001b[1;34m'f'\u001b[0m\u001b[1;33m\u001b[0m\u001b[1;33m\u001b[0m\u001b[0m\n\u001b[0;32m      2\u001b[0m \u001b[0mb\u001b[0m\u001b[1;33m=\u001b[0m\u001b[1;36m8\u001b[0m\u001b[1;33m\u001b[0m\u001b[1;33m\u001b[0m\u001b[0m\n\u001b[1;32m----> 3\u001b[1;33m \u001b[0ma\u001b[0m\u001b[1;33m/\u001b[0m\u001b[0mb\u001b[0m\u001b[1;33m\u001b[0m\u001b[1;33m\u001b[0m\u001b[0m\n\u001b[0m",
      "\u001b[1;31mTypeError\u001b[0m: unsupported operand type(s) for /: 'str' and 'int'"
     ]
    }
   ],
   "source": [
    "# TypeError\n",
    "a='f'\n",
    "b=8\n",
    "a/b"
   ]
  },
  {
   "cell_type": "code",
   "execution_count": 5,
   "metadata": {},
   "outputs": [
    {
     "name": "stdout",
     "output_type": "stream",
     "text": [
      "4\n",
      "9\n",
      "16\n"
     ]
    }
   ],
   "source": [
    "# Assertion\n",
    "\n",
    "def square(a):\n",
    "#     return a**a\n",
    "    return a*a\n",
    "assert square(2)==4 # simple version\n",
    "assert square(3)==9,'The square of 3 should be 9' #very simple version\n",
    "assert square(4)==16\n",
    "\n",
    "print(square(2))\n",
    "print(square(3))\n",
    "print(square(4))"
   ]
  },
  {
   "cell_type": "code",
   "execution_count": 1,
   "metadata": {},
   "outputs": [
    {
     "name": "stdout",
     "output_type": "stream",
     "text": [
      "average of score1:  56.2\n"
     ]
    },
    {
     "ename": "AssertionError",
     "evalue": "list is empty",
     "output_type": "error",
     "traceback": [
      "\u001b[1;31m---------------------------------------------------------------------------\u001b[0m",
      "\u001b[1;31mAssertionError\u001b[0m                            Traceback (most recent call last)",
      "\u001b[1;32m<ipython-input-1-44da54b6785c>\u001b[0m in \u001b[0;36m<module>\u001b[1;34m\u001b[0m\n\u001b[0;32m      7\u001b[0m \u001b[1;33m\u001b[0m\u001b[0m\n\u001b[0;32m      8\u001b[0m \u001b[0mscore2\u001b[0m\u001b[1;33m=\u001b[0m\u001b[1;33m[\u001b[0m\u001b[1;33m]\u001b[0m\u001b[1;33m\u001b[0m\u001b[1;33m\u001b[0m\u001b[0m\n\u001b[1;32m----> 9\u001b[1;33m \u001b[0mprint\u001b[0m\u001b[1;33m(\u001b[0m\u001b[1;34m'average of score2: '\u001b[0m\u001b[1;33m,\u001b[0m\u001b[0mavg\u001b[0m\u001b[1;33m(\u001b[0m\u001b[0mscore2\u001b[0m\u001b[1;33m)\u001b[0m\u001b[1;33m)\u001b[0m\u001b[1;33m\u001b[0m\u001b[1;33m\u001b[0m\u001b[0m\n\u001b[0m",
      "\u001b[1;32m<ipython-input-1-44da54b6785c>\u001b[0m in \u001b[0;36mavg\u001b[1;34m(score)\u001b[0m\n\u001b[0;32m      1\u001b[0m \u001b[1;32mdef\u001b[0m \u001b[0mavg\u001b[0m\u001b[1;33m(\u001b[0m\u001b[0mscore\u001b[0m\u001b[1;33m)\u001b[0m\u001b[1;33m:\u001b[0m\u001b[1;33m\u001b[0m\u001b[1;33m\u001b[0m\u001b[0m\n\u001b[1;32m----> 2\u001b[1;33m     \u001b[1;32massert\u001b[0m \u001b[0mlen\u001b[0m\u001b[1;33m(\u001b[0m\u001b[0mscore\u001b[0m\u001b[1;33m)\u001b[0m\u001b[1;33m!=\u001b[0m\u001b[1;36m0\u001b[0m\u001b[1;33m,\u001b[0m\u001b[1;34m'list is empty'\u001b[0m\u001b[1;33m\u001b[0m\u001b[1;33m\u001b[0m\u001b[0m\n\u001b[0m\u001b[0;32m      3\u001b[0m     \u001b[1;32mreturn\u001b[0m \u001b[0msum\u001b[0m\u001b[1;33m(\u001b[0m\u001b[0mscore\u001b[0m\u001b[1;33m)\u001b[0m\u001b[1;33m/\u001b[0m\u001b[0mlen\u001b[0m\u001b[1;33m(\u001b[0m\u001b[0mscore\u001b[0m\u001b[1;33m)\u001b[0m\u001b[1;33m\u001b[0m\u001b[1;33m\u001b[0m\u001b[0m\n\u001b[0;32m      4\u001b[0m \u001b[1;33m\u001b[0m\u001b[0m\n\u001b[0;32m      5\u001b[0m \u001b[0mscore1\u001b[0m\u001b[1;33m=\u001b[0m\u001b[1;33m[\u001b[0m\u001b[1;36m23\u001b[0m\u001b[1;33m,\u001b[0m\u001b[1;36m34\u001b[0m\u001b[1;33m,\u001b[0m\u001b[1;36m56\u001b[0m\u001b[1;33m,\u001b[0m\u001b[1;36m78\u001b[0m\u001b[1;33m,\u001b[0m\u001b[1;36m90\u001b[0m\u001b[1;33m]\u001b[0m\u001b[1;33m\u001b[0m\u001b[1;33m\u001b[0m\u001b[0m\n",
      "\u001b[1;31mAssertionError\u001b[0m: list is empty"
     ]
    }
   ],
   "source": [
    "def avg(score):\n",
    "    assert len(score)!=0,'list is empty'\n",
    "    return sum(score)/len(score)\n",
    "\n",
    "score1=[23,34,56,78,90]\n",
    "print('average of score1: ',avg(score1))\n",
    "\n",
    "score2=[]\n",
    "print('average of score2: ',avg(score2))"
   ]
  },
  {
   "cell_type": "code",
   "execution_count": null,
   "metadata": {},
   "outputs": [],
   "source": []
  }
 ],
 "metadata": {
  "kernelspec": {
   "display_name": "Python 3",
   "language": "python",
   "name": "python3"
  },
  "language_info": {
   "codemirror_mode": {
    "name": "ipython",
    "version": 3
   },
   "file_extension": ".py",
   "mimetype": "text/x-python",
   "name": "python",
   "nbconvert_exporter": "python",
   "pygments_lexer": "ipython3",
   "version": "3.7.1"
  }
 },
 "nbformat": 4,
 "nbformat_minor": 2
}
