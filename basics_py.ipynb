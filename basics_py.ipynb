{
 "cells": [
  {
   "cell_type": "code",
   "execution_count": 7,
   "metadata": {},
   "outputs": [
    {
     "name": "stdout",
     "output_type": "stream",
     "text": [
      "enter year=1999\n",
      "not leap\n"
     ]
    }
   ],
   "source": [
    "y=(int)(input(\"enter year=\"))\n",
    "if y%4==0:\n",
    "    print(\"leap\")\n",
    "else:\n",
    "    print(\"not leap\")"
   ]
  },
  {
   "cell_type": "code",
   "execution_count": null,
   "metadata": {},
   "outputs": [],
   "source": [
    "n=int(input(\"enter n value=\"))\n",
    "for i in range(n):\n",
    "    print(n*(n-1),end=\"\")"
   ]
  },
  {
   "cell_type": "code",
   "execution_count": 29,
   "metadata": {},
   "outputs": [
    {
     "name": "stdout",
     "output_type": "stream",
     "text": [
      "[6]\n",
      "[2, 4, 6]\n",
      "[1, 2, 4, 9]\n",
      "[9, 2, 1]\n"
     ]
    }
   ],
   "source": [
    "r = [6]\n",
    "print(r)\n",
    "\n",
    "r.insert(0,2)\n",
    "r.insert(1,4)\n",
    "print(r)\n",
    "r.remove(6)\n",
    "r.append(9)\n",
    "r.append(1)\n",
    "r.sort()\n",
    "print(r)\n",
    "r.pop(2)\n",
    "r.reverse()\n",
    "r.count(2)\n",
    "print(r)"
   ]
  },
  {
   "cell_type": "code",
   "execution_count": 2,
   "metadata": {},
   "outputs": [
    {
     "name": "stdout",
     "output_type": "stream",
     "text": [
      "35\n"
     ]
    }
   ],
   "source": [
    "import keyword\n",
    "keyword.kwlist\n",
    "print(len(keyword.kwlist))"
   ]
  },
  {
   "cell_type": "code",
   "execution_count": 21,
   "metadata": {},
   "outputs": [
    {
     "data": {
      "text/plain": [
       "'abcdefgh'"
      ]
     },
     "execution_count": 21,
     "metadata": {},
     "output_type": "execute_result"
    }
   ],
   "source": [
    "a='abcdefghijk'\n",
    "a[:] #end not specified so whole string is printed\n",
    "a[:8] #consider n-1 string"
   ]
  },
  {
   "cell_type": "code",
   "execution_count": 35,
   "metadata": {},
   "outputs": [
    {
     "data": {
      "text/plain": [
       "'sahithyA'"
      ]
     },
     "execution_count": 35,
     "metadata": {},
     "output_type": "execute_result"
    }
   ],
   "source": [
    "s='sahithya'\n",
    "s[:-1]+s[-1].upper()\n",
    "s[:len(s)-1]+s[-1].upper()\n"
   ]
  },
  {
   "cell_type": "code",
   "execution_count": 48,
   "metadata": {},
   "outputs": [
    {
     "data": {
      "text/plain": [
       "'sahithya sahithya sahithya sahithya sahithya '"
      ]
     },
     "execution_count": 48,
     "metadata": {},
     "output_type": "execute_result"
    }
   ],
   "source": [
    "(s+' ')*5"
   ]
  },
  {
   "cell_type": "code",
   "execution_count": 65,
   "metadata": {},
   "outputs": [],
   "source": [
    "a='asd'+'asd'"
   ]
  },
  {
   "cell_type": "code",
   "execution_count": 66,
   "metadata": {},
   "outputs": [
    {
     "data": {
      "text/plain": [
       "[34, 'wer', 7, 5, 'ryn']"
      ]
     },
     "execution_count": 66,
     "metadata": {},
     "output_type": "execute_result"
    }
   ],
   "source": [
    "t=(2,'wer',7,5,'ryn')\n",
    "l=list(t)\n",
    "l[0]=34\n",
    "l"
   ]
  },
  {
   "cell_type": "code",
   "execution_count": null,
   "metadata": {},
   "outputs": [],
   "source": [
    "'''\n",
    "-pvm will check in memory whether object is existing or not ,if not, it will create a new object\n",
    "-multiple reference variables pointing to one object is called object reusability\n",
    "-space n time complexity will be reduced\n",
    "-all fundamental data types are immutable\n",
    "-all changes will be performed in existing object only,changing behaviour of object is called mutable\n",
    "-object reusability is only applicable for int,float,bool,str\n",
    "-in complex type object reusability is not applicable,but it is immutable\n",
    "\n",
    "'''"
   ]
  },
  {
   "cell_type": "code",
   "execution_count": 2,
   "metadata": {},
   "outputs": [
    {
     "name": "stdout",
     "output_type": "stream",
     "text": [
      "10 10 10\n",
      "140736499725424 140736499725424 140736499725424\n"
     ]
    }
   ],
   "source": [
    "a=10  # here 10 is a object it will check in the memory whether it is exixted or not\n",
    "b=10  # here a,b,c are reference variables\n",
    "c=10\n",
    "print(a,b,c)    \n",
    "print(id(a),id(b),id(c))  "
   ]
  },
  {
   "cell_type": "code",
   "execution_count": 21,
   "metadata": {},
   "outputs": [
    {
     "name": "stdout",
     "output_type": "stream",
     "text": [
      "140736499725136\n",
      "2173899648968\n",
      "140736499725232\n",
      "2173899648968\n",
      "True\n"
     ]
    }
   ],
   "source": [
    "l=[1,2,3]\n",
    "print(id(l[0]))\n",
    "print(id(l))\n",
    "l[0]=4\n",
    "print(id(l[0]))\n",
    "print(id(l))\n",
    "print(2 in l)"
   ]
  },
  {
   "cell_type": "code",
   "execution_count": 8,
   "metadata": {},
   "outputs": [
    {
     "name": "stdout",
     "output_type": "stream",
     "text": [
      "140736499725168\n",
      "2173900064304\n"
     ]
    }
   ],
   "source": [
    "a=2\n",
    "print(id(a))\n",
    "a=2.0\n",
    "print(id(a))"
   ]
  },
  {
   "cell_type": "code",
   "execution_count": 19,
   "metadata": {},
   "outputs": [
    {
     "data": {
      "text/plain": [
       "1"
      ]
     },
     "execution_count": 19,
     "metadata": {},
     "output_type": "execute_result"
    }
   ],
   "source": [
    "a=29\n",
    "b=20\n",
    "a//b"
   ]
  },
  {
   "cell_type": "code",
   "execution_count": 5,
   "metadata": {},
   "outputs": [
    {
     "name": "stdout",
     "output_type": "stream",
     "text": [
      "True\n",
      "False\n",
      "True\n",
      "True\n",
      "False\n",
      "True\n"
     ]
    }
   ],
   "source": [
    "# in , not in  -> membership operator\n",
    "\n",
    "a=[1,2,3,4]\n",
    "print(2 in a)\n",
    "print(5 in a)\n",
    "print(6 not in a)\n",
    "\n",
    "# is , is not  -> identity operator\n",
    "\n",
    "b=[5,6,7,8]\n",
    "print(a is a)\n",
    "print(b is a)\n",
    "print(b is not a)"
   ]
  },
  {
   "cell_type": "code",
   "execution_count": 2,
   "metadata": {},
   "outputs": [],
   "source": [
    "# python don't have do...while loop\n",
    "#  pre-test  ex: while , for loop\n",
    "#  post-test ex: do...while loop , but python doesn't support post test loops\n",
    "# we use 'else' clause in 'while' ,'for' statement"
   ]
  },
  {
   "cell_type": "code",
   "execution_count": 9,
   "metadata": {},
   "outputs": [
    {
     "name": "stdout",
     "output_type": "stream",
     "text": [
      "10\n",
      "12\n",
      "14\n",
      "16\n",
      "18\n",
      "20\n",
      "hello\n"
     ]
    }
   ],
   "source": [
    "a=10\n",
    "while True:\n",
    "    print(a)\n",
    "    a+=2\n",
    "    if a>20:\n",
    "        break\n",
    "print('hello')"
   ]
  },
  {
   "cell_type": "code",
   "execution_count": 18,
   "metadata": {},
   "outputs": [
    {
     "name": "stdout",
     "output_type": "stream",
     "text": [
      "2\n",
      "3\n",
      "4\n",
      "5\n",
      "6\n",
      "7\n",
      "8\n",
      "9\n",
      "10\n",
      "11 this is -else- in -while-\n"
     ]
    }
   ],
   "source": [
    "x=2\n",
    "while x<=10:\n",
    "    print(x)\n",
    "    x+=1\n",
    "else:\n",
    "    print(x,'this is -else- in -while-')"
   ]
  },
  {
   "cell_type": "code",
   "execution_count": 56,
   "metadata": {},
   "outputs": [
    {
     "name": "stdout",
     "output_type": "stream",
     "text": [
      "2\n",
      "asd\n",
      "33\n",
      "4\n",
      "asd\n",
      "2 3 4 5 \n",
      "completed\n"
     ]
    }
   ],
   "source": [
    "l=[2,'asd',33,4,'asd']\n",
    "for i in l:\n",
    "    print(i)\n",
    "for i in {2,3,4,5}:\n",
    "    print(i,end=' ')\n",
    "else:\n",
    "    print('\\ncompleted')"
   ]
  },
  {
   "cell_type": "code",
   "execution_count": 54,
   "metadata": {},
   "outputs": [
    {
     "name": "stdout",
     "output_type": "stream",
     "text": [
      "4\n",
      "24\n",
      "fact 4 = 24\n",
      "fact is 24\n"
     ]
    }
   ],
   "source": [
    "n=int(input())\n",
    "f=1\n",
    "for i in range(1,n+1):\n",
    "    f=i*f\n",
    "print(f)\n",
    "print(\"fact %d = %d\"%(n,f))\n",
    "print('fact is {}'.format(f))"
   ]
  },
  {
   "cell_type": "code",
   "execution_count": 10,
   "metadata": {},
   "outputs": [
    {
     "name": "stdout",
     "output_type": "stream",
     "text": [
      "\n",
      "1 2 3 4 5 6 7 8 9 10 \n",
      "2 4 6 8 10 12 14 16 18 20 \n",
      "3 6 9 12 15 18 21 24 27 30 \n",
      "4 8 12 16 20 24 28 32 36 40 \n",
      "5 10 15 20 25 30 35 40 45 50 \n",
      "6 12 18 24 30 36 42 48 54 60 \n",
      "7 14 21 28 35 42 49 56 63 70 \n",
      "8 16 24 32 40 48 56 64 72 80 \n",
      "9 18 27 36 45 54 63 72 81 90 \n",
      "10 20 30 40 50 60 70 80 90 100 "
     ]
    }
   ],
   "source": [
    "#n=int(input())\n",
    "i=1\n",
    "j=i\n",
    "for i in range(1,11):\n",
    "    #print(n*i)\n",
    "    print(end='\\n')    \n",
    "    for j in range(1,11):\n",
    "        print(i*j,end=' ')\n",
    "    "
   ]
  },
  {
   "cell_type": "code",
   "execution_count": null,
   "metadata": {},
   "outputs": [],
   "source": [
    "'''\n",
    "range(stop)\n",
    "range(start,stop)\n",
    "range(sta)\n",
    "'''"
   ]
  },
  {
   "cell_type": "code",
   "execution_count": 15,
   "metadata": {},
   "outputs": [
    {
     "name": "stdout",
     "output_type": "stream",
     "text": [
      "using stop \n",
      "\n",
      "0\n",
      "1\n",
      "2\n",
      "3\n",
      "\n",
      "using start,stop \n",
      "\n",
      "1\n",
      "2\n",
      "3\n",
      "4\n",
      "5\n",
      "6\n",
      "7\n",
      "8\n",
      "9\n",
      "\n",
      "using start,stop,step \n",
      "\n",
      "2\n",
      "7\n",
      "12\n",
      "17\n",
      "\n",
      "---\n",
      "\n",
      "5\n",
      "4\n",
      "3\n",
      "2\n",
      "1\n"
     ]
    }
   ],
   "source": [
    "print('using stop \\n')\n",
    "for i in range(4):\n",
    "    print(i)\n",
    "print('\\nusing start,stop \\n')\n",
    "for i in range(1,10):\n",
    "    print(i)\n",
    "print('\\nusing start,stop,step \\n')\n",
    "\n",
    "for i in range(2,20,5): # increment ->step\n",
    "    print(i)\n",
    "print('\\n---\\n')\n",
    "for i in range(5,0,-1): # decrement ->step\n",
    "    print(i)"
   ]
  },
  {
   "cell_type": "code",
   "execution_count": 17,
   "metadata": {},
   "outputs": [
    {
     "name": "stdout",
     "output_type": "stream",
     "text": [
      "a\n",
      "e\n",
      "i\n",
      "o\n",
      "u\n"
     ]
    }
   ],
   "source": [
    "v='aeiou'\n",
    "for i in v:\n",
    "    print(i)"
   ]
  },
  {
   "cell_type": "code",
   "execution_count": 21,
   "metadata": {},
   "outputs": [
    {
     "data": {
      "text/plain": [
       "range"
      ]
     },
     "execution_count": 21,
     "metadata": {},
     "output_type": "execute_result"
    }
   ],
   "source": [
    "type(range(0,11))"
   ]
  },
  {
   "cell_type": "code",
   "execution_count": 26,
   "metadata": {},
   "outputs": [
    {
     "data": {
      "text/plain": [
       "1"
      ]
     },
     "execution_count": 26,
     "metadata": {},
     "output_type": "execute_result"
    }
   ],
   "source": [
    "range(0,10)[1]"
   ]
  },
  {
   "cell_type": "code",
   "execution_count": 36,
   "metadata": {},
   "outputs": [
    {
     "name": "stdout",
     "output_type": "stream",
     "text": [
      "0 as\n",
      "1 23\n",
      "2 65\n",
      "3 ewg\n"
     ]
    }
   ],
   "source": [
    "b=['as','23','65','ewg']\n",
    "for i in range(len(b)):\n",
    "    print(\"%d\"%i,b[i])"
   ]
  },
  {
   "cell_type": "code",
   "execution_count": 59,
   "metadata": {
    "scrolled": true
   },
   "outputs": [
    {
     "name": "stdout",
     "output_type": "stream",
     "text": [
      "\n",
      "*\n",
      "**\n",
      "***\n",
      "****\n",
      "*****\n",
      "\n",
      "\n",
      "*\n",
      "**\n",
      "***\n",
      "****\n",
      "*****\n",
      "\n",
      "\n",
      "\n",
      "*\n",
      "**\n",
      "***\n",
      "****\n",
      "*****\n",
      "\n",
      "\n",
      "\n",
      "*****\n",
      "*****\n",
      "*****\n",
      "*****\n",
      "*****\n",
      "\n",
      "*****\n",
      "*****\n",
      "*****\n",
      "*****\n",
      "*****\n"
     ]
    }
   ],
   "source": [
    "for i in range(0,5):\n",
    "    print()\n",
    "    for j in range(0,i+1):\n",
    "        print('*',end='')\n",
    "\n",
    "print('\\n')\n",
    "\n",
    "for i in range(6):\n",
    "    print('*'*i)\n",
    "\n",
    "print('\\n')\n",
    "for i in range(6):\n",
    "    print('*'*i)    \n",
    "\n",
    "print('\\n')    \n",
    "for i in range(0,5):\n",
    "    print()\n",
    "    for j in range(5):\n",
    "        print('*',end='') \n",
    "\n",
    "print('\\n')\n",
    "for i in range(5):\n",
    "    print('*'*5)\n"
   ]
  },
  {
   "cell_type": "code",
   "execution_count": 58,
   "metadata": {},
   "outputs": [
    {
     "name": "stdout",
     "output_type": "stream",
     "text": [
      "     \n",
      "    1 \n",
      "   2 2 \n",
      "  3 3 3 \n",
      " 4 4 4 4 \n",
      "5 5 5 5 5 \n",
      "     \n",
      "    A \n",
      "   B B \n",
      "  C C C \n",
      " D D D D \n",
      "E E E E E \n"
     ]
    }
   ],
   "source": [
    "for i in range(6): \n",
    "    print(' '*(5-i),end='')       \n",
    "    print((str(i)+' ')*i)\n",
    "#     for j in range(i):\n",
    "#         print(i,end=' ')\n",
    "#     print('\\n')\n",
    "    \n",
    "    \n",
    "        \n",
    "# for i in range(6):\n",
    "#     print(' '*(5-i)+(str(i)+' ')*(i))\n",
    "\n",
    "for i in range(6): \n",
    "    print(' '*(5-i),end='')\n",
    "    print((chr(64+i)+' ')*i)\n",
    "    #print('*'*i)\n",
    "    #print(' *'*i)"
   ]
  },
  {
   "cell_type": "code",
   "execution_count": 75,
   "metadata": {},
   "outputs": [
    {
     "data": {
      "text/plain": [
       "\"  \\n'pass' can also be called as 'no operation' \\n'comments' are ignored by interpreter and 'pass' wil execute like a valid statement\\n\\n\""
      ]
     },
     "execution_count": 75,
     "metadata": {},
     "output_type": "execute_result"
    }
   ],
   "source": [
    "'''  \n",
    "'pass' can also be called as 'no operation' \n",
    "'comments' are ignored by interpreter and 'pass' wil execute like a valid statement\n",
    "\n",
    "'''"
   ]
  },
  {
   "cell_type": "code",
   "execution_count": 77,
   "metadata": {},
   "outputs": [
    {
     "name": "stdout",
     "output_type": "stream",
     "text": [
      "1\n",
      "3\n",
      "5\n",
      "7\n",
      "9\n",
      "23\n"
     ]
    }
   ],
   "source": [
    "n=[1,2,3,4,5,6,7,8,9,23]\n",
    "for i in n:\n",
    "    if i%2==0:\n",
    "        pass\n",
    "    else:\n",
    "        print(i)"
   ]
  },
  {
   "cell_type": "code",
   "execution_count": 123,
   "metadata": {},
   "outputs": [
    {
     "name": "stdout",
     "output_type": "stream",
     "text": [
      "01234"
     ]
    }
   ],
   "source": [
    "for x in range(5):\n",
    "    pass\n",
    "    print(x,end='')"
   ]
  },
  {
   "cell_type": "code",
   "execution_count": 18,
   "metadata": {},
   "outputs": [
    {
     "data": {
      "text/plain": [
       "'\\ncollection related data types\\n\\n-list\\n-tuple\\n-set\\n-frozenset\\n-dict\\n-range\\n-bytes\\n-bytearray\\n\\n\\n'"
      ]
     },
     "execution_count": 18,
     "metadata": {},
     "output_type": "execute_result"
    }
   ],
   "source": [
    "'''\n",
    "collection related data types\n",
    "\n",
    "-list\n",
    "-tuple\n",
    "-set\n",
    "-frozenset\n",
    "-dict\n",
    "-range\n",
    "-bytes\n",
    "-bytearray\n",
    "\n",
    "\n",
    "'''"
   ]
  },
  {
   "cell_type": "code",
   "execution_count": 21,
   "metadata": {},
   "outputs": [
    {
     "data": {
      "text/plain": [
       "['asd', 332, 'erw', [2, 3, 4, 'ewr']]"
      ]
     },
     "execution_count": 21,
     "metadata": {},
     "output_type": "execute_result"
    }
   ],
   "source": [
    "l=['asd',332,'erw',[2,3,4,'ewr']]\n",
    "l"
   ]
  },
  {
   "cell_type": "code",
   "execution_count": 70,
   "metadata": {},
   "outputs": [
    {
     "name": "stdout",
     "output_type": "stream",
     "text": [
      "first list:  [1, 2, [65, 3], (9, 6), {3, 5}]\n",
      "\n",
      "second list:  [1, 2, [65, 3], (9, 6), {3, 5}, [2, 3, 4, 5, 6, 7, 8, 9], {'s': 20}, 10]\n",
      "\n",
      "extend: [1, 2, [65, 3], (9, 6), {3, 5}, [2, 3, 4, 5, 6, 7, 8, 9], {'s': 20}, 10, 4, 5, 6, 7, 2, 4, 24, 21, 'a', 'b']\n",
      "\n",
      "insert: [1, 2, 89, [65, 3], (9, 6), {3, 5}, [2, 3, 4, 5, 6, 7, 8, 9], {'s': 20}, 10, 4, 5, 6, 7, 2, 4, 24, 21, 'a', 'b']\n"
     ]
    }
   ],
   "source": [
    "s=[1,2]\n",
    "\n",
    "s.append([65,3])\n",
    "s.append((9,6))\n",
    "s.append({5,3})\n",
    "print('first list: ',s)\n",
    "\n",
    "s.append(l)\n",
    "s.append({'s':20})\n",
    "s.append(10)         # adds only one element at a time\n",
    "print('\\nsecond list: ',s)\n",
    "\n",
    "s.extend([4,5,6,7])  # adds multiple elements at a time\n",
    "s.extend((2,4))\n",
    "s.extend({21,24})\n",
    "s.extend({'a':22,\"b\":44})\n",
    "print('\\nextend:',s)\n",
    "\n",
    "s.insert(2,89)\n",
    "print(\"\\ninsert:\",s)"
   ]
  },
  {
   "cell_type": "code",
   "execution_count": 66,
   "metadata": {},
   "outputs": [
    {
     "name": "stdout",
     "output_type": "stream",
     "text": [
      "[2, 3, 4, 5, 6, 7, 8, 9]\n",
      "\n",
      " [14, 13, 12, 11, 4, 6, 8]\n"
     ]
    }
   ],
   "source": [
    "l=[2,3,4,5]\n",
    "for i in range(6,10):\n",
    "    l.append(i)\n",
    "print(l)\n",
    "l1=[4,6,8]\n",
    "for i in range(11,15):\n",
    "    l1.insert(0,i)\n",
    "print('\\n',l1)"
   ]
  },
  {
   "cell_type": "code",
   "execution_count": 68,
   "metadata": {},
   "outputs": [
    {
     "name": "stdout",
     "output_type": "stream",
     "text": [
      "remove:  [3, 7, 8, 9]\n",
      "pop:  [3, 7, 8]\n"
     ]
    }
   ],
   "source": [
    "l2=[3,6,7,8,9]\n",
    "\n",
    "l2.remove(6)\n",
    "print('remove: ',l2)\n",
    "\n",
    "l2.pop(3)\n",
    "print(\"pop: \",l2)"
   ]
  },
  {
   "cell_type": "code",
   "execution_count": 77,
   "metadata": {},
   "outputs": [
    {
     "ename": "ValueError",
     "evalue": "list.remove(x): x not in list",
     "output_type": "error",
     "traceback": [
      "\u001b[1;31m---------------------------------------------------------------------------\u001b[0m",
      "\u001b[1;31mValueError\u001b[0m                                Traceback (most recent call last)",
      "\u001b[1;32m<ipython-input-77-f1a6cab3b638>\u001b[0m in \u001b[0;36m<module>\u001b[1;34m\u001b[0m\n\u001b[0;32m      1\u001b[0m \u001b[0ml3\u001b[0m\u001b[1;33m=\u001b[0m\u001b[1;33m[\u001b[0m\u001b[1;36m1\u001b[0m\u001b[1;33m,\u001b[0m\u001b[1;36m23\u001b[0m\u001b[1;33m,\u001b[0m\u001b[1;36m4\u001b[0m\u001b[1;33m,\u001b[0m\u001b[1;36m5\u001b[0m\u001b[1;33m,\u001b[0m\u001b[1;36m6\u001b[0m\u001b[1;33m,\u001b[0m\u001b[1;36m7\u001b[0m\u001b[1;33m,\u001b[0m\u001b[1;36m8\u001b[0m\u001b[1;33m,\u001b[0m\u001b[1;36m9\u001b[0m\u001b[1;33m,\u001b[0m\u001b[1;36m5\u001b[0m\u001b[1;33m,\u001b[0m\u001b[1;36m45\u001b[0m\u001b[1;33m,\u001b[0m\u001b[1;36m55\u001b[0m\u001b[1;33m,\u001b[0m\u001b[1;36m34\u001b[0m\u001b[1;33m,\u001b[0m\u001b[1;36m35\u001b[0m\u001b[1;33m,\u001b[0m\u001b[1;36m67\u001b[0m\u001b[1;33m]\u001b[0m\u001b[1;33m\u001b[0m\u001b[1;33m\u001b[0m\u001b[0m\n\u001b[0;32m      2\u001b[0m \u001b[1;32mfor\u001b[0m \u001b[0mi\u001b[0m \u001b[1;32min\u001b[0m \u001b[0mrange\u001b[0m\u001b[1;33m(\u001b[0m\u001b[1;36m1\u001b[0m\u001b[1;33m,\u001b[0m\u001b[1;36m6\u001b[0m\u001b[1;33m)\u001b[0m\u001b[1;33m:\u001b[0m\u001b[1;33m\u001b[0m\u001b[1;33m\u001b[0m\u001b[0m\n\u001b[1;32m----> 3\u001b[1;33m     \u001b[0ml3\u001b[0m\u001b[1;33m.\u001b[0m\u001b[0mremove\u001b[0m\u001b[1;33m(\u001b[0m\u001b[0mi\u001b[0m\u001b[1;33m)\u001b[0m\u001b[1;33m\u001b[0m\u001b[1;33m\u001b[0m\u001b[0m\n\u001b[0m\u001b[0;32m      4\u001b[0m \u001b[0mprint\u001b[0m\u001b[1;33m(\u001b[0m\u001b[0ml3\u001b[0m\u001b[1;33m)\u001b[0m\u001b[1;33m\u001b[0m\u001b[1;33m\u001b[0m\u001b[0m\n",
      "\u001b[1;31mValueError\u001b[0m: list.remove(x): x not in list"
     ]
    }
   ],
   "source": [
    "l3=[1,23,4,5,6,7,8,9,5,45,55,34,35,67]\n",
    "for i in range(1,6):\n",
    "    l3.remove(i)\n",
    "print(l3)"
   ]
  },
  {
   "cell_type": "code",
   "execution_count": 2,
   "metadata": {},
   "outputs": [
    {
     "name": "stdout",
     "output_type": "stream",
     "text": [
      "6\n"
     ]
    },
    {
     "data": {
      "text/plain": [
       "['__add__',\n",
       " '__class__',\n",
       " '__contains__',\n",
       " '__delattr__',\n",
       " '__dir__',\n",
       " '__doc__',\n",
       " '__eq__',\n",
       " '__format__',\n",
       " '__ge__',\n",
       " '__getattribute__',\n",
       " '__getitem__',\n",
       " '__getnewargs__',\n",
       " '__gt__',\n",
       " '__hash__',\n",
       " '__init__',\n",
       " '__init_subclass__',\n",
       " '__iter__',\n",
       " '__le__',\n",
       " '__len__',\n",
       " '__lt__',\n",
       " '__mul__',\n",
       " '__ne__',\n",
       " '__new__',\n",
       " '__reduce__',\n",
       " '__reduce_ex__',\n",
       " '__repr__',\n",
       " '__rmul__',\n",
       " '__setattr__',\n",
       " '__sizeof__',\n",
       " '__str__',\n",
       " '__subclasshook__',\n",
       " 'count',\n",
       " 'index']"
      ]
     },
     "execution_count": 2,
     "metadata": {},
     "output_type": "execute_result"
    }
   ],
   "source": [
    "t=(1,2,5,6,80,80,34)\n",
    "print(t[3])\n",
    "dir(t)"
   ]
  },
  {
   "cell_type": "code",
   "execution_count": 45,
   "metadata": {},
   "outputs": [
    {
     "data": {
      "text/plain": [
       "(90, 90, 9)"
      ]
     },
     "execution_count": 45,
     "metadata": {},
     "output_type": "execute_result"
    }
   ],
   "source": [
    "# 'append' is applicable in list , 'add' is applicable in set"
   ]
  },
  {
   "cell_type": "code",
   "execution_count": 75,
   "metadata": {},
   "outputs": [
    {
     "name": "stdout",
     "output_type": "stream",
     "text": [
      "<class 'set'>\n",
      "{0, 6, 8, 9, 50}\n",
      "{0, 6, 8, 9, 50}\n"
     ]
    }
   ],
   "source": [
    "# set is mutable but elements in set are immutable\n",
    "# indexing not applicable, slicing not applicable\n",
    "# append()- will add elements in last \n",
    "# add()- it only adds one item at a time , will not be added at last ,it may b added at any location\n",
    "# update()- will add more than one element\n",
    "# remove()- it will raise error when specified element is not present\n",
    "# discard()- it will not raise error when specified element is not present and set remains unchanged \n",
    "\n",
    "\n",
    "k=set()  # if we give k={} it will give type as dict bcoz pvm gives high priority to dict\n",
    "print(type(k))\n",
    "\n",
    "s={10,10,70,6,50}\n",
    "s.add(50)\n",
    "s.remove(10)\n",
    "s.update([0,8,9])\n",
    "s.discard(70)\n",
    "print(s)\n",
    "s.discard(70)\n",
    "print(s)"
   ]
  },
  {
   "cell_type": "code",
   "execution_count": 55,
   "metadata": {},
   "outputs": [
    {
     "name": "stdout",
     "output_type": "stream",
     "text": [
      "{2, 4, 5}\n"
     ]
    }
   ],
   "source": [
    "s=set([2,3,4,8,9,6,5])\n",
    "s1={1,2,3,4,5}\n",
    "\n",
    "s1.pop()  # to first last item\n",
    "s1.remove(3)\n",
    "print(s1)\n",
    "\n",
    "\n",
    "# s.clear()  # to remove all items from set\n",
    "# print(s)"
   ]
  },
  {
   "cell_type": "code",
   "execution_count": 45,
   "metadata": {},
   "outputs": [
    {
     "name": "stdout",
     "output_type": "stream",
     "text": [
      "{1, 2, 3, 4, 5, 6, 7, 8, 9, 10} \n",
      "\n",
      "{1, 2, 3, 4, 5, 6, 7, 8, 9, 10} \n",
      "\n",
      "{2} \n",
      "\n",
      "{2} \n",
      "\n",
      "{1, 3, 4, 5} \n",
      "\n",
      "{1, 3, 4, 5} \n",
      "\n",
      "False False False False False\n"
     ]
    }
   ],
   "source": [
    "s1={1,2,3,4,2,3,4,5}\n",
    "s2={6,7,8,2,9,10}\n",
    "\n",
    "# union ->  using | operator (or operater) ,or we can use  union() method\n",
    "\n",
    "print(s1|s2,'\\n')\n",
    "\n",
    "print(s1.union(s2),'\\n')\n",
    "\n",
    "# intersection -> using & operator (and operater) , or we can use intersection() method\n",
    "\n",
    "print(s1&s2,'\\n')\n",
    "\n",
    "print(s1.intersection(s2),'\\n')\n",
    "\n",
    "# difference -> using - operator (minus operater) , or we can use difference() method\n",
    "\n",
    "print(s1-s2,'\\n')\n",
    "print(s1.difference(s2),'\\n')\n",
    "\n",
    "# set comparision  ->   < , > , <= , >= , == , we can check whether set is subset ,superset or equivalent to other set, returns boolean values\n",
    "print(s1==s2,s1<s2,s1>s2,s1>=s2,s1<=s2)\n"
   ]
  },
  {
   "cell_type": "code",
   "execution_count": 51,
   "metadata": {},
   "outputs": [
    {
     "name": "stdout",
     "output_type": "stream",
     "text": [
      "<class 'frozenset'>\n"
     ]
    },
    {
     "ename": "AttributeError",
     "evalue": "'frozenset' object has no attribute 'remove'",
     "output_type": "error",
     "traceback": [
      "\u001b[1;31m---------------------------------------------------------------------------\u001b[0m",
      "\u001b[1;31mAttributeError\u001b[0m                            Traceback (most recent call last)",
      "\u001b[1;32m<ipython-input-51-9fdbe4c8444e>\u001b[0m in \u001b[0;36m<module>\u001b[1;34m\u001b[0m\n\u001b[0;32m      3\u001b[0m \u001b[0mfs\u001b[0m\u001b[1;33m=\u001b[0m\u001b[0mfrozenset\u001b[0m\u001b[1;33m(\u001b[0m\u001b[0ms1\u001b[0m\u001b[1;33m)\u001b[0m\u001b[1;33m\u001b[0m\u001b[1;33m\u001b[0m\u001b[0m\n\u001b[0;32m      4\u001b[0m \u001b[0mprint\u001b[0m\u001b[1;33m(\u001b[0m\u001b[0mtype\u001b[0m\u001b[1;33m(\u001b[0m\u001b[0mfs\u001b[0m\u001b[1;33m)\u001b[0m\u001b[1;33m)\u001b[0m\u001b[1;33m\u001b[0m\u001b[1;33m\u001b[0m\u001b[0m\n\u001b[1;32m----> 5\u001b[1;33m \u001b[0mfs\u001b[0m\u001b[1;33m.\u001b[0m\u001b[0mremove\u001b[0m\u001b[1;33m(\u001b[0m\u001b[1;36m2\u001b[0m\u001b[1;33m)\u001b[0m\u001b[1;33m\u001b[0m\u001b[1;33m\u001b[0m\u001b[0m\n\u001b[0m",
      "\u001b[1;31mAttributeError\u001b[0m: 'frozenset' object has no attribute 'remove'"
     ]
    }
   ],
   "source": [
    "#frozenset -> same as set , but it is immutable\n",
    "\n",
    "fs=frozenset(s1)\n",
    "print(type(fs))\n",
    "fs.remove(2)"
   ]
  },
  {
   "cell_type": "code",
   "execution_count": 21,
   "metadata": {},
   "outputs": [
    {
     "name": "stdout",
     "output_type": "stream",
     "text": [
      "<class 'dict'> \n",
      " {1: 2, 's': 'p', 'r': 4}\n",
      "2\n",
      "{1: 2, 's': 'p', 'r': 4, 3: 9}\n",
      "{1: 2, 'ds': 3, 'Ds': 3}\n",
      "{6: 'dsa', 90: 3.3}\n",
      "using []:  2\n",
      "using get():  dsa\n"
     ]
    }
   ],
   "source": [
    "# dictionary -> to represent objects as key value pairs\n",
    "# duplicate keys not allowed  but duplicate values are allowed\n",
    "\n",
    "d={1:2,'s':'p','r':3,'r':4}\n",
    "print(type(d),'\\n',d)\n",
    "print(d[1])\n",
    "d[3]=9\n",
    "print(d)\n",
    "\n",
    "\n",
    "d1=dict({1:2,'ds':3,'Ds':3})\n",
    "print(d1)\n",
    "\n",
    "d2=dict([(6,'dsa'),(90,3.3)])\n",
    "print(d2)\n",
    "\n",
    "# keys can be used either inside [] or with get()\n",
    "\n",
    "print('using []: ',d1[1])\n",
    "#print('using []: ',d1[8])  # error occurs when we want to access a element which is not present in dict\n",
    "\n",
    "print('using get(): ',d2.get(6))\n",
    "#print('using get(): ',d2.get(0)) # returns 'None' when we want to access a element which is not present in dict"
   ]
  },
  {
   "cell_type": "code",
   "execution_count": 32,
   "metadata": {},
   "outputs": [
    {
     "name": "stdout",
     "output_type": "stream",
     "text": [
      "140726801118320\n",
      "140726801118320\n",
      "<class 'NoneType'> \n",
      " 140726800633056\n",
      "<class 'NoneType'> \n",
      " 140726800633056\n"
     ]
    }
   ],
   "source": [
    "a=10\n",
    "print(id(a))\n",
    "print(id(10))\n",
    "\n",
    "a,b=None,None # no value associated\n",
    "print(type(a),'\\n',id(a))\n",
    "print(type(b),'\\n',id(b))\n"
   ]
  },
  {
   "cell_type": "code",
   "execution_count": 18,
   "metadata": {},
   "outputs": [
    {
     "name": "stdout",
     "output_type": "stream",
     "text": [
      "{1: 5, 2: 'b', 4: 'd', 5: 'e', 3: 'c'}\n",
      "{1: 5, 2: 4, 4: 'd', 5: 'e', 3: 'c', 6: 6, 'a': 'd'}\n",
      "poping:  5\n",
      "using popitem():  ('a', 'd')\n",
      "{}\n"
     ]
    }
   ],
   "source": [
    "# changing and adding dict elements\n",
    "d={1:'a',2:'b',4:'d',5:'e'}\n",
    "d[1]=5\n",
    "d[3]='c'\n",
    "print(d)\n",
    "\n",
    "# update() to for changing values\n",
    "\n",
    "d.update({2:4})\n",
    "d.update([(6,6),('a','d')])\n",
    "print(d)\n",
    "\n",
    "#removing item\n",
    "\n",
    "print('poping: ',d.pop(1))  # pop()\n",
    "print('using popitem(): ',d.popitem()) # removes last item, removes (key,value) pair\n",
    "\n",
    "\n",
    "# clear() removes all items at a time\n",
    "d.clear() \n",
    "print(d)\n"
   ]
  },
  {
   "cell_type": "code",
   "execution_count": 24,
   "metadata": {},
   "outputs": [
    {
     "name": "stdout",
     "output_type": "stream",
     "text": [
      "del:  {2: 3, 3: 4, 4: 5}\n"
     ]
    },
    {
     "ename": "NameError",
     "evalue": "name 'd' is not defined",
     "output_type": "error",
     "traceback": [
      "\u001b[1;31m---------------------------------------------------------------------------\u001b[0m",
      "\u001b[1;31mNameError\u001b[0m                                 Traceback (most recent call last)",
      "\u001b[1;32m<ipython-input-24-3338c6b63f85>\u001b[0m in \u001b[0;36m<module>\u001b[1;34m\u001b[0m\n\u001b[0;32m      4\u001b[0m \u001b[0mprint\u001b[0m\u001b[1;33m(\u001b[0m\u001b[1;34m'del: '\u001b[0m\u001b[1;33m,\u001b[0m\u001b[0md\u001b[0m\u001b[1;33m)\u001b[0m\u001b[1;33m\u001b[0m\u001b[1;33m\u001b[0m\u001b[0m\n\u001b[0;32m      5\u001b[0m \u001b[1;32mdel\u001b[0m \u001b[0md\u001b[0m\u001b[1;33m\u001b[0m\u001b[1;33m\u001b[0m\u001b[0m\n\u001b[1;32m----> 6\u001b[1;33m \u001b[0mprint\u001b[0m\u001b[1;33m(\u001b[0m\u001b[0md\u001b[0m\u001b[1;33m)\u001b[0m\u001b[1;33m\u001b[0m\u001b[1;33m\u001b[0m\u001b[0m\n\u001b[0m",
      "\u001b[1;31mNameError\u001b[0m: name 'd' is not defined"
     ]
    }
   ],
   "source": [
    "# del keyword to remove individual item or entire dict, delete structure of dict\n",
    "d={1:2,2:3,3:4,4:5}\n",
    "del d[1]\n",
    "print('del: ',d)\n",
    "del d\n",
    "print(d) "
   ]
  },
  {
   "cell_type": "code",
   "execution_count": 39,
   "metadata": {},
   "outputs": [
    {
     "name": "stdout",
     "output_type": "stream",
     "text": [
      "<class 'dict'> \n",
      "\n",
      "emp details:  {'name': 'sakshi', 'age': 30, 'sal': 60000, 'company': 'wipro'}\n",
      "\n",
      " name: sakshi \n",
      " age: 30\n",
      "\n",
      "updating: \n",
      "enter name: sai\n",
      "enter age: 23\n"
     ]
    }
   ],
   "source": [
    "emp={'name':'sakshi','age':30,'sal':60000,'company':'wipro'}\n",
    "print(type(emp),'\\n')\n",
    "print(\"emp details: \",emp)\n",
    "print('\\n name: %s \\n age: %d'%(emp['name'],emp['age']))\n",
    "\n",
    "print('\\nupdating: ')\n",
    "emp['name']=input('enter name: ')\n",
    "emp['age']=int(input('enter age: '))"
   ]
  },
  {
   "cell_type": "code",
   "execution_count": 50,
   "metadata": {},
   "outputs": [
    {
     "name": "stdout",
     "output_type": "stream",
     "text": [
      "deleting items: \n",
      "after deleting name:  {'age': 30, 'sal': 60000, 'company': 'wipro'}\n"
     ]
    },
    {
     "ename": "NameError",
     "evalue": "name 'emp' is not defined",
     "output_type": "error",
     "traceback": [
      "\u001b[1;31m---------------------------------------------------------------------------\u001b[0m",
      "\u001b[1;31mNameError\u001b[0m                                 Traceback (most recent call last)",
      "\u001b[1;32m<ipython-input-50-055d078ba962>\u001b[0m in \u001b[0;36m<module>\u001b[1;34m\u001b[0m\n\u001b[0;32m      4\u001b[0m \u001b[0mprint\u001b[0m\u001b[1;33m(\u001b[0m\u001b[1;34m'after deleting name: '\u001b[0m\u001b[1;33m,\u001b[0m\u001b[0memp\u001b[0m\u001b[1;33m)\u001b[0m\u001b[1;33m\u001b[0m\u001b[1;33m\u001b[0m\u001b[0m\n\u001b[0;32m      5\u001b[0m \u001b[1;32mdel\u001b[0m \u001b[0memp\u001b[0m \u001b[1;31m# to destroy the structure use del keyword\u001b[0m\u001b[1;33m\u001b[0m\u001b[1;33m\u001b[0m\u001b[0m\n\u001b[1;32m----> 6\u001b[1;33m \u001b[0mprint\u001b[0m\u001b[1;33m(\u001b[0m\u001b[1;34m'after deleteing the dict: '\u001b[0m\u001b[1;33m,\u001b[0m\u001b[0memp\u001b[0m\u001b[1;33m)\u001b[0m\u001b[1;33m\u001b[0m\u001b[1;33m\u001b[0m\u001b[0m\n\u001b[0m",
      "\u001b[1;31mNameError\u001b[0m: name 'emp' is not defined"
     ]
    }
   ],
   "source": [
    "emp={'name':'sakshi','age':30,'sal':60000,'company':'wipro'}\n",
    "print(\"deleting items: \")\n",
    "del emp['name']\n",
    "print('after deleting name: ',emp)\n",
    "\n",
    "del emp # to destroy the structure use del keyword\n",
    "print('after deleteing the dict: ',emp)"
   ]
  },
  {
   "cell_type": "code",
   "execution_count": 81,
   "metadata": {},
   "outputs": [
    {
     "name": "stdout",
     "output_type": "stream",
     "text": [
      "keys of dict: \n",
      "name\n",
      "age\n",
      "sal\n",
      "company\n",
      "\n",
      "values of dict: \n",
      "sakshi\n",
      "30\n",
      "60000\n",
      "wipro\n",
      "\n",
      "another way to print values: \n",
      "sakshi\n",
      "30\n",
      "60000\n",
      "wipro\n",
      "\n",
      "to print key n value of dict using items(): \n",
      "('name', 'sakshi')\n",
      "('age', 30)\n",
      "('sal', 60000)\n",
      "('company', 'wipro')\n",
      "\n",
      " length of dict:  4\n",
      "\n",
      "all are converted to string:  {'name': 'sakshi', 'age': 30, 'sal': 60000, 'company': 'wipro'}\n"
     ]
    }
   ],
   "source": [
    "# for loop with dict\n",
    "emp={'name':'sakshi','age':30,'sal':60000,'company':'wipro'}\n",
    "print('keys of dict: ')\n",
    "for i in emp:\n",
    "    print(i)\n",
    "\n",
    "print('\\nvalues of dict: ')\n",
    "for i in emp:\n",
    "    print(emp[i])\n",
    "print('\\nanother way to print values: ')\n",
    "for i in emp.values():\n",
    "    print(i)\n",
    "\n",
    "print('\\nto print key n value of dict using items(): ')\n",
    "for i in emp.items():\n",
    "    print(i)\n",
    "\n",
    "# len()\n",
    "print('\\n length of dict: ',len(emp))\n",
    "\n",
    "# converts emp to string , total dict is considered as string\n",
    "print('\\nall are converted to string: ',str(emp))"
   ]
  },
  {
   "cell_type": "code",
   "execution_count": 3,
   "metadata": {},
   "outputs": [
    {
     "name": "stdout",
     "output_type": "stream",
     "text": [
      "{1: 2, 2: 3, 3: 4, 4: 5}\n"
     ]
    }
   ],
   "source": [
    "# copy()\n",
    "d={1:2,2:3,3:4,4:5}\n",
    "k=d.copy()\n",
    "print(k)"
   ]
  },
  {
   "cell_type": "code",
   "execution_count": 7,
   "metadata": {},
   "outputs": [
    {
     "data": {
      "text/plain": [
       "range(0, 10)"
      ]
     },
     "execution_count": 7,
     "metadata": {},
     "output_type": "execute_result"
    }
   ],
   "source": [
    "# range() -> indexing and slicing is possible\n",
    "range(10)"
   ]
  },
  {
   "cell_type": "code",
   "execution_count": 27,
   "metadata": {},
   "outputs": [
    {
     "name": "stdout",
     "output_type": "stream",
     "text": [
      "<class 'list'> \n",
      "\n",
      " <class 'bytes'> \n",
      "\n",
      " b'\\x01\\x02\\x03\\x04\\x05\\x06\\x07\\x08\\x04\\x05\\x06\\xff' \n",
      "\n",
      "\n",
      "indexing: \n",
      " 1 \n",
      "slicing: \n",
      " b'\\x01\\x02\\x03\\x04\\x05' \n",
      "\n",
      "1\n",
      "2\n",
      "3\n",
      "4\n",
      "5\n",
      "6\n",
      "7\n",
      "8\n",
      "4\n",
      "5\n",
      "6\n",
      "255\n"
     ]
    }
   ],
   "source": [
    "# bytes -> 0 to 255 , we want to represent  byte value we use 'bytes' , it is immutable , order is imp , indexing and slicing is possible , duplicates are allowed\n",
    "# binary data conversion , video and audio files \n",
    "\n",
    "l=[1,2,3,4,5,6,7,8,4,5,6,255] # if we give >255 it will raise error\n",
    "b=bytes(l)\n",
    "print(type(l),'\\n\\n',type(b),'\\n\\n',b,'\\n\\n')\n",
    "print('indexing: \\n',b[0],'\\nslicing: \\n',b[0:5],'\\n')\n",
    "for i in b:\n",
    "    print(i)"
   ]
  },
  {
   "cell_type": "code",
   "execution_count": 33,
   "metadata": {},
   "outputs": [],
   "source": [
    "# 'bytearray' is immutable by default , if we want to make mutable then we need bytearray\n",
    "# order is imp, 0 to 255 ,indexing and slicing  is possible , duplicates are allowed\n",
    "# binary data, video ,audio, image files reading we need 'bytearray' as well as 'bytes'\n"
   ]
  },
  {
   "cell_type": "code",
   "execution_count": 34,
   "metadata": {},
   "outputs": [
    {
     "data": {
      "text/plain": [
       "'\\nescape sequence\\n\\n\\n -> new line\\n\\t -> tab spaces\\n\\x08 -> backspace\\n\\r -> carriage return \\n\\x0c -> formfeed\\n\\' -> single quote\\n\" -> double quote\\n\\\\ -> back slash\\n\\n'"
      ]
     },
     "execution_count": 34,
     "metadata": {},
     "output_type": "execute_result"
    }
   ],
   "source": [
    "'''\n",
    "escape sequence\n",
    "\n",
    "\\n -> new line\n",
    "\\t -> tab spaces\n",
    "\\b -> backspace\n",
    "\\r -> carriage return \n",
    "\\f -> formfeed\n",
    "\\' -> single quote\n",
    "\\\" -> double quote\n",
    "\\\\ -> back slash\n",
    "\n",
    "In python ,modifier concepts are not available like constant,final,static\n",
    "\n",
    "'''"
   ]
  },
  {
   "cell_type": "code",
   "execution_count": null,
   "metadata": {},
   "outputs": [],
   "source": [
    "# ASCII code converting ord() , chr()\n",
    "print(ord('a'))\n",
    "print(chr(90))"
   ]
  },
  {
   "cell_type": "code",
   "execution_count": 92,
   "metadata": {},
   "outputs": [
    {
     "name": "stdout",
     "output_type": "stream",
     "text": [
      "    January 2020\n",
      "Mo Tu We Th Fr Sa Su\n",
      "       1  2  3  4  5\n",
      " 6  7  8  9 10 11 12\n",
      "13 14 15 16 17 18 19\n",
      "20 21 22 23 24 25 26\n",
      "27 28 29 30 31\n",
      "\n",
      "    August 2020\n",
      "Mo Tu We Th Fr Sa Su\n",
      "                1  2\n",
      " 3  4  5  6  7  8  9\n",
      "10 11 12 13 14 15 16\n",
      "17 18 19 20 21 22 23\n",
      "24 25 26 27 28 29 30\n",
      "31\n",
      "\n"
     ]
    }
   ],
   "source": [
    "import calendar\n",
    "year=2020\n",
    "month=1\n",
    "print(calendar.month(year,month))\n",
    "print(calendar.month(2020,8))\n"
   ]
  },
  {
   "cell_type": "code",
   "execution_count": null,
   "metadata": {},
   "outputs": [],
   "source": [
    "''' \n",
    "For comparing two list\n",
    "    \n",
    "set() function and == operator\n",
    "sort() function and == operator\n",
    "collection.counter() function\n",
    "reduce() and map()\n",
    "\n",
    "'''"
   ]
  },
  {
   "cell_type": "code",
   "execution_count": 7,
   "metadata": {},
   "outputs": [
    {
     "name": "stdout",
     "output_type": "stream",
     "text": [
      "not equal\n",
      "equal\n",
      "equal\n"
     ]
    }
   ],
   "source": [
    "l1=[1,2,3,4,5,8,9]\n",
    "l2=[1,2,3,5,4,8,9]\n",
    "\n",
    "if l1==l2:\n",
    "    print('equal')\n",
    "else:\n",
    "    print('not equal')\n",
    "\n",
    "l3=set(l1)\n",
    "l4=set(l2)\n",
    "\n",
    "if l3==l4:\n",
    "    print('equal')\n",
    "else:\n",
    "    print('not equal')\n",
    "\n",
    "l5=l1.sort()\n",
    "l6=l2.sort()\n",
    "\n",
    "if l5==l6:\n",
    "    print('equal')\n",
    "else:\n",
    "    print('not equal')\n",
    "\n"
   ]
  },
  {
   "cell_type": "code",
   "execution_count": 1,
   "metadata": {},
   "outputs": [
    {
     "data": {
      "text/plain": [
       "' \\n Function :\\n---------------\\n->code resusability\\n-> effective debugging\\n\\n'"
      ]
     },
     "execution_count": 1,
     "metadata": {},
     "output_type": "execute_result"
    }
   ],
   "source": [
    "''' \n",
    " Function :\n",
    "------------\n",
    "-> code resusability\n",
    "-> effective debugging\n",
    "-> starts with 'def' keyword\n",
    "-> every function should have name(not equal to any keyword) and name must follow rules of identifiers\n",
    "-> function accept parameters and they can be optional\n",
    "-> function block start with colon(:) and block stmnts must be at the same indentation\n",
    "-> return stmnt is used to return empty or value and a function can have only one return type\n",
    "-> multi-value return can be done (tuple by default) \n",
    "\n",
    " Types of Function :\n",
    "---------------------\n",
    "1. Built-in function\n",
    "2. user defined function\n",
    "3. recursion function\n",
    "4. lambda function\n",
    "~~~~~~~~~~~~~~~~~~~~~~~~~\n",
    "\n",
    "1. Built-in function:\n",
    "----------------------\n",
    "-> pre-defined library function\n",
    " Ex: print(),id(),range(),type(),len(),abd(),bool(),int(),str(),oct(),bin(),dict(),tuple(),list()\n",
    " \n",
    "2. User defined function;\n",
    "-------------------------\n",
    " syntax:\n",
    " def fun_name():\n",
    "     stmnts\n",
    "     return\n",
    "-> Function calling   \n",
    "- function should be defined before it is called\n",
    "Ex: \n",
    "def fun():\n",
    "    print('hello')\n",
    "fun()\n",
    "\n",
    "\n",
    "3. Recursion function:\n",
    "-----------------------\n",
    "-> function calling itself\n",
    " \n",
    " Advantage:\n",
    "............... \n",
    "- easy to write\n",
    "- readable code is easier to read and understand\n",
    "- reduce lines of code\n",
    " Disadvantages:\n",
    "................\n",
    "-not all prblms can be solves\n",
    "-if the base case don't define then code would run indefinitely\n",
    "-debugging is difficult\n",
    "- memory overhead\n",
    "\n",
    "4. Lambda funtion:\n",
    "-------------------\n",
    "-> lambda function is defined without any name\n",
    "-> lambda function is also known as anonymous function\n",
    "-> defined using'lambda' keyword\n",
    "\n",
    "    syntax:-\n",
    "    lambda arguments : expression\n",
    "    \n",
    "-> lambda functions can accept any no.of arguments,but they can return only one value in the form of expression\n",
    "-> it contains a small piece of code\n",
    "-> it is useful when the function objects are required\n",
    "==>how to call anonymous function with filter(),map()\n",
    "-> filter()\n",
    "  filter(fun,iterable)\n",
    "-> map()-accept a list & funtion then gives a new list which contains all modeified items returned by the function by the each item \n",
    "\n",
    "'''"
   ]
  },
  {
   "cell_type": "code",
   "execution_count": 14,
   "metadata": {},
   "outputs": [
    {
     "name": "stdout",
     "output_type": "stream",
     "text": [
      "120\n"
     ]
    }
   ],
   "source": [
    "def fact(x):\n",
    "    if x==1:\n",
    "        return 1\n",
    "    else:\n",
    "        return x*fact(x-1)\n",
    "n=5\n",
    "print(fact(n))\n",
    "\n",
    "    "
   ]
  },
  {
   "cell_type": "code",
   "execution_count": 34,
   "metadata": {},
   "outputs": [
    {
     "name": "stdout",
     "output_type": "stream",
     "text": [
      "<function <lambda> at 0x000001CCACF0B268>\n",
      "sum= 27\n",
      "5\n",
      "filter() using\n",
      "[6]\n",
      "map() using\n",
      "[4, 9, 16, 25, 64, 36, 49]\n"
     ]
    }
   ],
   "source": [
    "j=lambda x:x+7\n",
    "print(j)\n",
    "print('sum=',j(20))\n",
    "s=lambda x,y:x*y\n",
    "print(s(5,1))\n",
    "\n",
    "print('filter() using')\n",
    "l=[2,3,4,5,8,6,7]\n",
    "l1=list(filter(lambda a:(a/3==2),l))\n",
    "print(l1)\n",
    "\n",
    "print('map() using')\n",
    "sq=list(map(lambda x:x**2,l))\n",
    "print(sq)"
   ]
  },
  {
   "cell_type": "code",
   "execution_count": 39,
   "metadata": {},
   "outputs": [
    {
     "name": "stdout",
     "output_type": "stream",
     "text": [
      "hello\n",
      "hello 20\n",
      "enter a: 33\n",
      "enter b: 3\n",
      "sum= 36\n",
      "inside function=  [1, 2, 3, 10, 20, 30, 10, 20, 30, 10, 20, 30, 10, 20, 30, 10, 20, 30, 10, 20, 30, 10, 20, 30, 10, 20, 30, 10, 20, 30]\n",
      "\n",
      "outside function=  [1, 2, 3, 10, 20, 30, 10, 20, 30, 10, 20, 30, 10, 20, 30, 10, 20, 30, 10, 20, 30, 10, 20, 30, 10, 20, 30, 10, 20, 30]\n",
      "\n",
      "inside function=  helloworld 1988746794096\n",
      "\n",
      "outside function=  hello 1988746792608\n"
     ]
    }
   ],
   "source": [
    "# user defined function\n",
    "\n",
    "def fun():\n",
    "    print('hello')\n",
    "fun()\n",
    "\n",
    "def fun(val):\n",
    "    print('hello',val)\n",
    "fun(20)\n",
    "\n",
    "# call by value\n",
    "\n",
    "def sum(a,b):\n",
    "    return a+b\n",
    "a=int(input(\"enter a: \"))\n",
    "b=int(input(\"enter b: \"))\n",
    "print('sum=',sum(a,b))\n",
    "\n",
    "# passing mutable objects as argument\n",
    "\n",
    "def modify(l1):\n",
    "    l1.append(10)\n",
    "    l1.append(20)\n",
    "    l1.append(30)\n",
    "    print('inside function= ',l1)\n",
    "    l1=[1,2,3]\n",
    "modify(l1)\n",
    "print('\\noutside function= ',l1)\n",
    "\n",
    "# passing immutable objects as argument\n",
    "\n",
    "def modify(str):\n",
    "    str=str+'world'\n",
    "    print('\\ninside function= ',str,id(str))\n",
    "str='hello'\n",
    "modify(str)\n",
    "print('\\noutside function= ',str,id(str))"
   ]
  },
  {
   "cell_type": "code",
   "execution_count": null,
   "metadata": {},
   "outputs": [],
   "source": [
    "'''\n",
    "\n",
    "Types of arguments:\n",
    "\n",
    "1. required arguments\n",
    "->function calling and position of argument should be in same order \n",
    "\n",
    "2. keyword arguments\n",
    "\n",
    "\n",
    "3. default arguments\n",
    "\n",
    "\n",
    "4. variable-length arguments\n",
    "-> for giving different no.of parameters we use this variable length\n",
    "-> we don't need to fix the no.of arguments in the function\n",
    "-> def f() is applied to 10 modules with diff parameters\n",
    "    -module1 designed to take 3 parameters\n",
    "    -module2 designed to take 5 parameters\n",
    "-> this is achieved using *\n",
    "  def f(*var):\n",
    "      ....\n",
    "\n",
    "'''"
   ]
  },
  {
   "cell_type": "code",
   "execution_count": 8,
   "metadata": {},
   "outputs": [
    {
     "name": "stdout",
     "output_type": "stream",
     "text": [
      "enter p: 234\n",
      "enter t: 2\n",
      "enter r: 3\n",
      "p= 234.0 t= 3.0 r= 2.0\n",
      "simple interest=  14.04\n",
      "name:  sai   msg:  hi\n",
      "name:  sai   msg:  hi\n",
      "name:  sai   msg:  hi\n"
     ]
    }
   ],
   "source": [
    "def si(p,t,r):\n",
    "    print('p=',p,'t=',t,'r=',r)\n",
    "    return (p*t*r)/100\n",
    "p=float(input(\"enter p: \"))\n",
    "t=float(input(\"enter t: \"))\n",
    "r=float(input(\"enter r: \"))\n",
    "\n",
    "# required arguments\n",
    "\n",
    "print('simple interest= ',si(p,r,t))\n",
    "\n",
    "# print(si(p,t)) -> it will raise error bcoz we don't give all the arguments in function call\n",
    "\n",
    "def fun(name,msg):\n",
    "    print('name: ',name,' ','msg: ',msg)\n",
    "\n",
    "# keywordd arguments\n",
    "\n",
    "fun(name='sai',msg='hi')\n",
    "\n",
    "#fun(name='sai','hi') -> if one argument is given with the keyword all the arguments should be given with keyword arguments only,if we don't give then it will raise error\n",
    "\n",
    "fun('sai',msg='hi')  # required argument after keyword argument is possible ,but keyword argument after required argument  is not possible\n",
    "fun(msg='hi',name='sai')"
   ]
  },
  {
   "cell_type": "code",
   "execution_count": 3,
   "metadata": {},
   "outputs": [
    {
     "name": "stdout",
     "output_type": "stream",
     "text": [
      "sai 35\n",
      "sai 37\n",
      "23 35\n",
      "abc 23\n",
      "square of number:  25\n",
      "square of number:  36\n",
      "square of number:  49\n",
      "square of number:  64\n",
      "square of number:  4\n",
      "square of number:  9\n",
      "square of number:  16\n",
      "square of number:  25\n",
      "square of number:  36\n",
      "square of number:  49\n",
      "square of number:  64\n"
     ]
    }
   ],
   "source": [
    "# default arguments\n",
    "\n",
    "#def fun(name,age=35):\n",
    "def fun(name='abc',age=35): # we can give default value in function definition itself\n",
    "    print(name,age)\n",
    "fun('sai')\n",
    "fun('sai',37) #if we want to call function with specified value we give in function call,if we don't specify any value then default value will print fun()\n",
    "fun(23)\n",
    "fun(age=23)\n",
    "\n",
    "\n",
    "# variable length arguments\n",
    "\n",
    "def disp(*var):\n",
    "    for n in var:\n",
    "        print('square of number: ',n*n)    \n",
    "disp(5,6,7,8)\n",
    "disp(2,3,4,5,6,7,8)"
   ]
  },
  {
   "cell_type": "code",
   "execution_count": 35,
   "metadata": {},
   "outputs": [
    {
     "name": "stdout",
     "output_type": "stream",
     "text": [
      "def 23\n"
     ]
    }
   ],
   "source": [
    "'''\n",
    "List comprehension:\n",
    "--------------------\n",
    "-> used for creating new list from other iterables(list,tuple,range,string..)\n",
    "-> it reduces the code\n",
    " syntax:\n",
    "   [ exprsn/method for item in list if cond ]\n",
    "     -------------     -----   -----   -----\n",
    "\n",
    "'''"
   ]
  },
  {
   "cell_type": "code",
   "execution_count": 2,
   "metadata": {},
   "outputs": [
    {
     "name": "stdout",
     "output_type": "stream",
     "text": [
      "[1, 4, 9, 16]\n",
      "using list comprehensio:\n",
      " [2, 3, 4, 5, 6]\n",
      "normal way:\n",
      " [2, 3, 4, 5, 6]\n",
      "\n",
      "\n",
      "['Hai', 'Hello', 'Bye']\n",
      "Hai\n",
      "Hello\n",
      "Bye\n",
      "[3, 5, 3]\n",
      "lower: ['hai', 'hello', 'bye']\n"
     ]
    },
    {
     "data": {
      "text/plain": [
       "\"\\ndef fun():\\n    print('hello')\\ns=[fun()]\\nprint(s)\\nl=[2,3,4]\\ndef greater(a,b,c):\\n    if a>b and a>c:\\n        return a\\n    elif b>a and b>c:\\n        return b\\n    else:\\n        return c\\ns=[i for i in greater(a,b,c)]\\nprint(s)\\n\\n\""
      ]
     },
     "execution_count": 2,
     "metadata": {},
     "output_type": "execute_result"
    }
   ],
   "source": [
    "# list comprehension\n",
    "\n",
    "num=[1,2,3,4]\n",
    "s=[i**2 for i in num]\n",
    "print(s)\n",
    "\n",
    "# find common numbers from list\n",
    "n1=[1,2,3,4,5,6,7,8,9]\n",
    "n2=[2,3,4,5,6,12]\n",
    "r=[j for i in n1  for j in n2 if i==j]\n",
    "print('using list comprehensio:\\n',r)\n",
    "\n",
    "# normal way\n",
    "c=[]\n",
    "for a in n1:\n",
    "    for b in n2:\n",
    "        if a==b:\n",
    "            c.append(b)\n",
    "print('normal way:\\n',c)\n",
    "\n",
    "\n",
    "print('\\n')\n",
    "\n",
    "# to iterate a string\n",
    "l=['hai','heLLo','bYe']\n",
    "\n",
    "r=[i[0].upper()+i[1:].lower() for i in l]\n",
    "print(r)\n",
    "\n",
    "for i in l:\n",
    "    print(i[0].upper()+i[1:].lower())\n",
    "    \n",
    "    \n",
    "r1=[len(i) for i in l]\n",
    "print(r1)\n",
    "\n",
    "\n",
    "\n",
    "l=['hai','heLLo','bYe']\n",
    "\n",
    "r=[i.lower() for i in l]\n",
    "print('lower:',r)\n",
    "\n",
    "\n",
    "\n",
    "\n",
    "\n",
    "'''\n",
    "def fun():\n",
    "    print('hello')\n",
    "s=[fun()]\n",
    "print(s)\n",
    "l=[2,3,4]\n",
    "def greater(a,b,c):\n",
    "    if a>b and a>c:\n",
    "        return a\n",
    "    elif b>a and b>c:\n",
    "        return b\n",
    "    else:\n",
    "        return c\n",
    "s=[i for i in greater(a,b,c)]\n",
    "print(s)\n",
    "\n",
    "'''"
   ]
  },
  {
   "cell_type": "code",
   "execution_count": null,
   "metadata": {},
   "outputs": [],
   "source": []
  }
 ],
 "metadata": {
  "kernelspec": {
   "display_name": "Python 3",
   "language": "python",
   "name": "python3"
  },
  "language_info": {
   "codemirror_mode": {
    "name": "ipython",
    "version": 3
   },
   "file_extension": ".py",
   "mimetype": "text/x-python",
   "name": "python",
   "nbconvert_exporter": "python",
   "pygments_lexer": "ipython3",
   "version": "3.7.1"
  }
 },
 "nbformat": 4,
 "nbformat_minor": 2
}
